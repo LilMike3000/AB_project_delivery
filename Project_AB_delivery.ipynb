{
 "cells": [
  {
   "cell_type": "markdown",
   "metadata": {},
   "source": [
    "# АБ-тесты проект. Приложение доставки"
   ]
  },
  {
   "cell_type": "markdown",
   "metadata": {},
   "source": [
    "Вы работаете аналитиком в приложении по доставке продуктов. Команда внедрила в приложение умную систему рекомендации товаров – предполагается, что такая система поможет пользователям эффективнее работать с приложением и лучше находить необходимые товары.\n",
    "\n",
    "Чтобы проверить эффективность системы рекомендаций, был проведен АБ-тест. В группе 1 оказались пользователи с новой системой рекомендаций, в группе 0 пользователи со старой версией приложения, где нет рекомендации товаров.\n",
    "\n",
    "Ваша задача – оценить, смогла ли новая система рекомендаций принести пользу бизнесу и пользователям приложения. Для этого нужно выбрать метрики, которые отвечают за качество сервиса, и статистически сравнить эти метрики в двух группах.\n",
    "\n",
    "Результат вашей работы – аналитическое заключение с ответом на вопрос, стоит ли включать новую систему рекомендаций на всех пользователей.\n",
    "\n",
    "В данных вы найдете логи заказов пользователей:\n",
    "\n",
    "**ab_users_data** – история заказов пользователей, в этой таблице есть информация о том, какие заказы создавали и отменяли пользователи  \n",
    "**ab_orders** – подробная информация о составе заказа, тут для каждого заказа есть список id тех продуктов, которые были включены в заказ  \n",
    "**ab_products** – подробная информация о продуктах, их название и стоимость"
   ]
  },
  {
   "cell_type": "code",
   "execution_count": 1,
   "metadata": {},
   "outputs": [],
   "source": [
    "import pandas as pd\n",
    "import numpy as np\n",
    "from scipy import stats\n",
    "\n",
    "from datetime import datetime, timedelta\n",
    "import statsmodels.api as sm\n",
    "from statsmodels import stats as stst\n",
    "\n",
    "\n",
    "import seaborn as sns\n",
    "import matplotlib.pyplot as plt\n",
    "%matplotlib inline"
   ]
  },
  {
   "cell_type": "code",
   "execution_count": 2,
   "metadata": {},
   "outputs": [],
   "source": [
    "users_data = pd.read_csv('ab_users_data.csv')\n",
    "orders = pd.read_csv('ab_orders.csv')\n",
    "products = pd.read_csv('ab_products.csv')"
   ]
  },
  {
   "cell_type": "markdown",
   "metadata": {},
   "source": [
    "# <a id=\"title1\"> EDA </a>"
   ]
  },
  {
   "cell_type": "markdown",
   "metadata": {},
   "source": [
    "[К анализу метрик ↓](#title2)  "
   ]
  },
  {
   "cell_type": "markdown",
   "metadata": {},
   "source": [
    "[К общему выводу ↓↓↓](#Conclusion2)"
   ]
  },
  {
   "cell_type": "code",
   "execution_count": 3,
   "metadata": {},
   "outputs": [],
   "source": [
    "def df_info(dataframe, df_name = 'df', info_params = ['total']):\n",
    "    \"\"\"\n",
    "    Функция выводит на экран описательную статистику датафрейма\n",
    "    dataframe - датафрейм\n",
    "    df_name - имя датафрейма, по умолчанию 'df'\n",
    "    info_params - какую информацию вывести. Принимает параметры списком по умолчанию 'total' - вся информация\n",
    "    \"\"\"\n",
    "    print(f\"\\033[1m{df_name}\\033[0m\")\n",
    "    for info_param in info_params:\n",
    "        if info_param == 'shape':\n",
    "            print(f\"Размер:\\n{dataframe.shape}\", sep = '')\n",
    "        if info_param == 'dtypes':\n",
    "            print(f\"\\nТипы переменных:\\n{dataframe.dtypes}\", sep = '')\n",
    "        if info_param == 'isna':\n",
    "            print(f\"\\nНаличие NaN:\\n{dataframe.isna().sum()}\", sep = '')\n",
    "        if info_param == 'describe':\n",
    "            print(f\"\\nОписательная статистика:\\n{dataframe.describe().round(2)}\", sep = '')\n",
    "\n",
    "    if info_params[0] == 'total':\n",
    "        print(f\"Размер:\\n{dataframe.shape}\", sep = '')\n",
    "        print(f\"\\nТипы переменных:\\n{dataframe.dtypes}\", sep = '')\n",
    "        print(f\"\\nНаличие NaN:\\n{dataframe.isna().sum()}\", sep = '')\n",
    "        print(f\"\\nОписательная статистика:\\n{dataframe.describe().round(2)}\\n\", sep = '')\n",
    "        \n",
    "\n",
    "\n",
    "def duplicates_order_id_df():\n",
    "    \"\"\"\n",
    "    Функция, возвращающая датафрейм только с дубликатами в order_id, то есть \n",
    "    строки с созданными заказами и строки с соответствующим отмененными заказами \n",
    "    \"\"\"\n",
    "    return users_data.loc[users_data \\\n",
    "                          .order_id \\\n",
    "                          .isin(users_data \\\n",
    "                                .loc[users_data.action == 'cancel_order'] \\\n",
    "                                .order_id)]\n",
    "\n",
    "def ttest_conditions(df, sample_1, sample_2, x_dist, hue_dist):\n",
    "    '''\n",
    "    Проверка на нормальность распределния экспериментальных выборок перед \n",
    "    применением статистического параметрического теста\n",
    "    '''\n",
    "    sns.displot(df, x = x_dist, hue = hue_dist, kde = True, bins = 50)\n",
    "    plt.show()\n",
    "\n",
    "    print('Ср. отклонение контрольной группы: ', np.std(sample_1))\n",
    "    print('Ср. отклонение тестовой группы: ', np.std(sample_2))\n",
    "\n",
    "    print('p-value гомогенности дисперсий: ', stats.levene(sample_1, sample_2)[1])\n",
    "\n",
    "    print('\\np-value нормальности для контрольной группы: ', stats.shapiro(sample_1)[1])\n",
    "    print('p-value нормальности для тестовой группы: ', stats.shapiro(sample_2)[1])"
   ]
  },
  {
   "cell_type": "code",
   "execution_count": 4,
   "metadata": {},
   "outputs": [
    {
     "data": {
      "text/html": [
       "<div>\n",
       "<style scoped>\n",
       "    .dataframe tbody tr th:only-of-type {\n",
       "        vertical-align: middle;\n",
       "    }\n",
       "\n",
       "    .dataframe tbody tr th {\n",
       "        vertical-align: top;\n",
       "    }\n",
       "\n",
       "    .dataframe thead th {\n",
       "        text-align: right;\n",
       "    }\n",
       "</style>\n",
       "<table border=\"1\" class=\"dataframe\">\n",
       "  <thead>\n",
       "    <tr style=\"text-align: right;\">\n",
       "      <th></th>\n",
       "      <th>user_id</th>\n",
       "      <th>order_id</th>\n",
       "      <th>action</th>\n",
       "      <th>time</th>\n",
       "      <th>date</th>\n",
       "      <th>group</th>\n",
       "    </tr>\n",
       "  </thead>\n",
       "  <tbody>\n",
       "    <tr>\n",
       "      <th>0</th>\n",
       "      <td>964</td>\n",
       "      <td>1255</td>\n",
       "      <td>create_order</td>\n",
       "      <td>2022-08-26 00:00:19.000000</td>\n",
       "      <td>2022-08-26</td>\n",
       "      <td>0</td>\n",
       "    </tr>\n",
       "    <tr>\n",
       "      <th>1</th>\n",
       "      <td>965</td>\n",
       "      <td>1256</td>\n",
       "      <td>create_order</td>\n",
       "      <td>2022-08-26 00:02:21.000000</td>\n",
       "      <td>2022-08-26</td>\n",
       "      <td>1</td>\n",
       "    </tr>\n",
       "    <tr>\n",
       "      <th>2</th>\n",
       "      <td>964</td>\n",
       "      <td>1257</td>\n",
       "      <td>create_order</td>\n",
       "      <td>2022-08-26 00:02:27.000000</td>\n",
       "      <td>2022-08-26</td>\n",
       "      <td>0</td>\n",
       "    </tr>\n",
       "  </tbody>\n",
       "</table>\n",
       "</div>"
      ],
      "text/plain": [
       "   user_id  order_id        action                        time        date  \\\n",
       "0      964      1255  create_order  2022-08-26 00:00:19.000000  2022-08-26   \n",
       "1      965      1256  create_order  2022-08-26 00:02:21.000000  2022-08-26   \n",
       "2      964      1257  create_order  2022-08-26 00:02:27.000000  2022-08-26   \n",
       "\n",
       "   group  \n",
       "0      0  \n",
       "1      1  \n",
       "2      0  "
      ]
     },
     "execution_count": 4,
     "metadata": {},
     "output_type": "execute_result"
    }
   ],
   "source": [
    "users_data[:3]"
   ]
  },
  {
   "cell_type": "code",
   "execution_count": 5,
   "metadata": {},
   "outputs": [
    {
     "data": {
      "text/html": [
       "<div>\n",
       "<style scoped>\n",
       "    .dataframe tbody tr th:only-of-type {\n",
       "        vertical-align: middle;\n",
       "    }\n",
       "\n",
       "    .dataframe tbody tr th {\n",
       "        vertical-align: top;\n",
       "    }\n",
       "\n",
       "    .dataframe thead th {\n",
       "        text-align: right;\n",
       "    }\n",
       "</style>\n",
       "<table border=\"1\" class=\"dataframe\">\n",
       "  <thead>\n",
       "    <tr style=\"text-align: right;\">\n",
       "      <th></th>\n",
       "      <th>order_id</th>\n",
       "      <th>creation_time</th>\n",
       "      <th>product_ids</th>\n",
       "    </tr>\n",
       "  </thead>\n",
       "  <tbody>\n",
       "    <tr>\n",
       "      <th>0</th>\n",
       "      <td>1255</td>\n",
       "      <td>2022-08-26 00:00:19.000000</td>\n",
       "      <td>{75, 22, 53, 84}</td>\n",
       "    </tr>\n",
       "    <tr>\n",
       "      <th>1</th>\n",
       "      <td>1256</td>\n",
       "      <td>2022-08-26 00:02:21.000000</td>\n",
       "      <td>{56, 76, 39}</td>\n",
       "    </tr>\n",
       "    <tr>\n",
       "      <th>2</th>\n",
       "      <td>1257</td>\n",
       "      <td>2022-08-26 00:02:27.000000</td>\n",
       "      <td>{76, 34, 41, 38}</td>\n",
       "    </tr>\n",
       "  </tbody>\n",
       "</table>\n",
       "</div>"
      ],
      "text/plain": [
       "   order_id               creation_time       product_ids\n",
       "0      1255  2022-08-26 00:00:19.000000  {75, 22, 53, 84}\n",
       "1      1256  2022-08-26 00:02:21.000000      {56, 76, 39}\n",
       "2      1257  2022-08-26 00:02:27.000000  {76, 34, 41, 38}"
      ]
     },
     "execution_count": 5,
     "metadata": {},
     "output_type": "execute_result"
    }
   ],
   "source": [
    "orders[:3]"
   ]
  },
  {
   "cell_type": "code",
   "execution_count": 6,
   "metadata": {},
   "outputs": [
    {
     "data": {
      "text/html": [
       "<div>\n",
       "<style scoped>\n",
       "    .dataframe tbody tr th:only-of-type {\n",
       "        vertical-align: middle;\n",
       "    }\n",
       "\n",
       "    .dataframe tbody tr th {\n",
       "        vertical-align: top;\n",
       "    }\n",
       "\n",
       "    .dataframe thead th {\n",
       "        text-align: right;\n",
       "    }\n",
       "</style>\n",
       "<table border=\"1\" class=\"dataframe\">\n",
       "  <thead>\n",
       "    <tr style=\"text-align: right;\">\n",
       "      <th></th>\n",
       "      <th>product_id</th>\n",
       "      <th>name</th>\n",
       "      <th>price</th>\n",
       "    </tr>\n",
       "  </thead>\n",
       "  <tbody>\n",
       "    <tr>\n",
       "      <th>0</th>\n",
       "      <td>1</td>\n",
       "      <td>сахар</td>\n",
       "      <td>150.0</td>\n",
       "    </tr>\n",
       "    <tr>\n",
       "      <th>1</th>\n",
       "      <td>2</td>\n",
       "      <td>чай зеленый в пакетиках</td>\n",
       "      <td>50.0</td>\n",
       "    </tr>\n",
       "    <tr>\n",
       "      <th>2</th>\n",
       "      <td>3</td>\n",
       "      <td>вода негазированная</td>\n",
       "      <td>80.4</td>\n",
       "    </tr>\n",
       "  </tbody>\n",
       "</table>\n",
       "</div>"
      ],
      "text/plain": [
       "   product_id                     name  price\n",
       "0           1                    сахар  150.0\n",
       "1           2  чай зеленый в пакетиках   50.0\n",
       "2           3      вода негазированная   80.4"
      ]
     },
     "execution_count": 6,
     "metadata": {},
     "output_type": "execute_result"
    }
   ],
   "source": [
    "products[:3]"
   ]
  },
  {
   "cell_type": "code",
   "execution_count": 7,
   "metadata": {
    "scrolled": true
   },
   "outputs": [
    {
     "name": "stdout",
     "output_type": "stream",
     "text": [
      "\u001b[1musers_data\u001b[0m\n",
      "Размер:\n",
      "(4337, 6)\n",
      "\n",
      "Типы переменных:\n",
      "user_id      int64\n",
      "order_id     int64\n",
      "action      object\n",
      "time        object\n",
      "date        object\n",
      "group        int64\n",
      "dtype: object\n",
      "\n",
      "Наличие NaN:\n",
      "user_id     0\n",
      "order_id    0\n",
      "action      0\n",
      "time        0\n",
      "date        0\n",
      "group       0\n",
      "dtype: int64\n",
      "\n",
      "Описательная статистика:\n",
      "       user_id  order_id    group\n",
      "count  4337.00   4337.00  4337.00\n",
      "mean   1466.77  16362.86     0.61\n",
      "std     290.45  16609.67     0.49\n",
      "min     964.00   1255.00     0.00\n",
      "25%    1220.00   2444.00     0.00\n",
      "50%    1463.00   9615.00     1.00\n",
      "75%    1710.00  26920.00     1.00\n",
      "max    1980.00  59533.00     1.00\n",
      "\n",
      "\u001b[1morders\u001b[0m\n",
      "Размер:\n",
      "(4123, 3)\n",
      "\n",
      "Типы переменных:\n",
      "order_id          int64\n",
      "creation_time    object\n",
      "product_ids      object\n",
      "dtype: object\n",
      "\n",
      "Наличие NaN:\n",
      "order_id         0\n",
      "creation_time    0\n",
      "product_ids      0\n",
      "dtype: int64\n",
      "\n",
      "Описательная статистика:\n",
      "       order_id\n",
      "count   4123.00\n",
      "mean   16387.90\n",
      "std    16644.52\n",
      "min     1255.00\n",
      "25%     2444.50\n",
      "50%     9614.00\n",
      "75%    27000.00\n",
      "max    59533.00\n",
      "\n",
      "\u001b[1mproducts\u001b[0m\n",
      "Размер:\n",
      "(87, 3)\n",
      "\n",
      "Типы переменных:\n",
      "product_id      int64\n",
      "name           object\n",
      "price         float64\n",
      "dtype: object\n",
      "\n",
      "Наличие NaN:\n",
      "product_id    0\n",
      "name          0\n",
      "price         0\n",
      "dtype: int64\n",
      "\n",
      "Описательная статистика:\n",
      "       product_id   price\n",
      "count       87.00   87.00\n",
      "mean        44.00  133.58\n",
      "std         25.26  136.13\n",
      "min          1.00    1.00\n",
      "25%         22.50   55.00\n",
      "50%         44.00   76.30\n",
      "75%         65.50  160.00\n",
      "max         87.00  800.00\n",
      "\n"
     ]
    }
   ],
   "source": [
    "df_info(users_data, 'users_data')\n",
    "df_info(orders, 'orders')\n",
    "df_info(products, 'products')"
   ]
  },
  {
   "cell_type": "code",
   "execution_count": 8,
   "metadata": {},
   "outputs": [
    {
     "data": {
      "text/html": [
       "<div>\n",
       "<style scoped>\n",
       "    .dataframe tbody tr th:only-of-type {\n",
       "        vertical-align: middle;\n",
       "    }\n",
       "\n",
       "    .dataframe tbody tr th {\n",
       "        vertical-align: top;\n",
       "    }\n",
       "\n",
       "    .dataframe thead th {\n",
       "        text-align: right;\n",
       "    }\n",
       "</style>\n",
       "<table border=\"1\" class=\"dataframe\">\n",
       "  <thead>\n",
       "    <tr style=\"text-align: right;\">\n",
       "      <th></th>\n",
       "      <th>user_id</th>\n",
       "      <th>order_id</th>\n",
       "      <th>action</th>\n",
       "      <th>time</th>\n",
       "      <th>date</th>\n",
       "      <th>group</th>\n",
       "    </tr>\n",
       "  </thead>\n",
       "  <tbody>\n",
       "    <tr>\n",
       "      <th>0</th>\n",
       "      <td>964</td>\n",
       "      <td>1255</td>\n",
       "      <td>create_order</td>\n",
       "      <td>2022-08-26 00:00:19.000000</td>\n",
       "      <td>2022-08-26</td>\n",
       "      <td>0</td>\n",
       "    </tr>\n",
       "    <tr>\n",
       "      <th>1</th>\n",
       "      <td>965</td>\n",
       "      <td>1256</td>\n",
       "      <td>create_order</td>\n",
       "      <td>2022-08-26 00:02:21.000000</td>\n",
       "      <td>2022-08-26</td>\n",
       "      <td>1</td>\n",
       "    </tr>\n",
       "    <tr>\n",
       "      <th>2</th>\n",
       "      <td>964</td>\n",
       "      <td>1257</td>\n",
       "      <td>create_order</td>\n",
       "      <td>2022-08-26 00:02:27.000000</td>\n",
       "      <td>2022-08-26</td>\n",
       "      <td>0</td>\n",
       "    </tr>\n",
       "    <tr>\n",
       "      <th>3</th>\n",
       "      <td>966</td>\n",
       "      <td>1258</td>\n",
       "      <td>create_order</td>\n",
       "      <td>2022-08-26 00:02:56.000000</td>\n",
       "      <td>2022-08-26</td>\n",
       "      <td>0</td>\n",
       "    </tr>\n",
       "    <tr>\n",
       "      <th>4</th>\n",
       "      <td>967</td>\n",
       "      <td>1259</td>\n",
       "      <td>create_order</td>\n",
       "      <td>2022-08-26 00:03:37.000000</td>\n",
       "      <td>2022-08-26</td>\n",
       "      <td>1</td>\n",
       "    </tr>\n",
       "  </tbody>\n",
       "</table>\n",
       "</div>"
      ],
      "text/plain": [
       "   user_id  order_id        action                        time        date  \\\n",
       "0      964      1255  create_order  2022-08-26 00:00:19.000000  2022-08-26   \n",
       "1      965      1256  create_order  2022-08-26 00:02:21.000000  2022-08-26   \n",
       "2      964      1257  create_order  2022-08-26 00:02:27.000000  2022-08-26   \n",
       "3      966      1258  create_order  2022-08-26 00:02:56.000000  2022-08-26   \n",
       "4      967      1259  create_order  2022-08-26 00:03:37.000000  2022-08-26   \n",
       "\n",
       "   group  \n",
       "0      0  \n",
       "1      1  \n",
       "2      0  \n",
       "3      0  \n",
       "4      1  "
      ]
     },
     "execution_count": 8,
     "metadata": {},
     "output_type": "execute_result"
    }
   ],
   "source": [
    "users_data.head()"
   ]
  },
  {
   "cell_type": "markdown",
   "metadata": {},
   "source": [
    "Проверю, статусы в action для каждого заказа только по одному, или в датасете для каждого заказа будет и create_order, и cancel_order в случае отмены"
   ]
  },
  {
   "cell_type": "code",
   "execution_count": 9,
   "metadata": {},
   "outputs": [
    {
     "data": {
      "text/plain": [
       "create_order    4123\n",
       "cancel_order     214\n",
       "Name: action, dtype: int64"
      ]
     },
     "execution_count": 9,
     "metadata": {},
     "output_type": "execute_result"
    }
   ],
   "source": [
    "users_data.action.value_counts()"
   ]
  },
  {
   "cell_type": "code",
   "execution_count": 10,
   "metadata": {},
   "outputs": [
    {
     "data": {
      "text/plain": [
       "4123"
      ]
     },
     "execution_count": 10,
     "metadata": {},
     "output_type": "execute_result"
    }
   ],
   "source": [
    "users_data.order_id.nunique()"
   ]
  },
  {
   "cell_type": "code",
   "execution_count": 11,
   "metadata": {},
   "outputs": [
    {
     "data": {
      "text/html": [
       "<div>\n",
       "<style scoped>\n",
       "    .dataframe tbody tr th:only-of-type {\n",
       "        vertical-align: middle;\n",
       "    }\n",
       "\n",
       "    .dataframe tbody tr th {\n",
       "        vertical-align: top;\n",
       "    }\n",
       "\n",
       "    .dataframe thead th {\n",
       "        text-align: right;\n",
       "    }\n",
       "</style>\n",
       "<table border=\"1\" class=\"dataframe\">\n",
       "  <thead>\n",
       "    <tr style=\"text-align: right;\">\n",
       "      <th></th>\n",
       "      <th>user_id</th>\n",
       "      <th>order_id</th>\n",
       "      <th>action</th>\n",
       "      <th>time</th>\n",
       "      <th>date</th>\n",
       "      <th>group</th>\n",
       "    </tr>\n",
       "  </thead>\n",
       "  <tbody>\n",
       "    <tr>\n",
       "      <th>8</th>\n",
       "      <td>966</td>\n",
       "      <td>1258</td>\n",
       "      <td>cancel_order</td>\n",
       "      <td>2022-08-26 00:08:25.486419</td>\n",
       "      <td>2022-08-26</td>\n",
       "      <td>0</td>\n",
       "    </tr>\n",
       "  </tbody>\n",
       "</table>\n",
       "</div>"
      ],
      "text/plain": [
       "   user_id  order_id        action                        time        date  \\\n",
       "8      966      1258  cancel_order  2022-08-26 00:08:25.486419  2022-08-26   \n",
       "\n",
       "   group  \n",
       "8      0  "
      ]
     },
     "execution_count": 11,
     "metadata": {},
     "output_type": "execute_result"
    }
   ],
   "source": [
    "users_data.query(\"action == 'cancel_order'\")[:1]"
   ]
  },
  {
   "cell_type": "code",
   "execution_count": 12,
   "metadata": {},
   "outputs": [
    {
     "data": {
      "text/html": [
       "<div>\n",
       "<style scoped>\n",
       "    .dataframe tbody tr th:only-of-type {\n",
       "        vertical-align: middle;\n",
       "    }\n",
       "\n",
       "    .dataframe tbody tr th {\n",
       "        vertical-align: top;\n",
       "    }\n",
       "\n",
       "    .dataframe thead th {\n",
       "        text-align: right;\n",
       "    }\n",
       "</style>\n",
       "<table border=\"1\" class=\"dataframe\">\n",
       "  <thead>\n",
       "    <tr style=\"text-align: right;\">\n",
       "      <th></th>\n",
       "      <th>user_id</th>\n",
       "      <th>order_id</th>\n",
       "      <th>action</th>\n",
       "      <th>time</th>\n",
       "      <th>date</th>\n",
       "      <th>group</th>\n",
       "    </tr>\n",
       "  </thead>\n",
       "  <tbody>\n",
       "    <tr>\n",
       "      <th>3</th>\n",
       "      <td>966</td>\n",
       "      <td>1258</td>\n",
       "      <td>create_order</td>\n",
       "      <td>2022-08-26 00:02:56.000000</td>\n",
       "      <td>2022-08-26</td>\n",
       "      <td>0</td>\n",
       "    </tr>\n",
       "    <tr>\n",
       "      <th>8</th>\n",
       "      <td>966</td>\n",
       "      <td>1258</td>\n",
       "      <td>cancel_order</td>\n",
       "      <td>2022-08-26 00:08:25.486419</td>\n",
       "      <td>2022-08-26</td>\n",
       "      <td>0</td>\n",
       "    </tr>\n",
       "  </tbody>\n",
       "</table>\n",
       "</div>"
      ],
      "text/plain": [
       "   user_id  order_id        action                        time        date  \\\n",
       "3      966      1258  create_order  2022-08-26 00:02:56.000000  2022-08-26   \n",
       "8      966      1258  cancel_order  2022-08-26 00:08:25.486419  2022-08-26   \n",
       "\n",
       "   group  \n",
       "3      0  \n",
       "8      0  "
      ]
     },
     "execution_count": 12,
     "metadata": {},
     "output_type": "execute_result"
    }
   ],
   "source": [
    "users_data.query(\"order_id == '1258'\")"
   ]
  },
  {
   "cell_type": "markdown",
   "metadata": {},
   "source": [
    "Заказ дублируется новой строчкой с новой датой в датафрейме в случае отмены, но на всякий случай проверю, что это касается всех заказов"
   ]
  },
  {
   "cell_type": "code",
   "execution_count": 13,
   "metadata": {},
   "outputs": [
    {
     "data": {
      "text/plain": [
       "create_order    214\n",
       "cancel_order    214\n",
       "Name: action, dtype: int64"
      ]
     },
     "execution_count": 13,
     "metadata": {},
     "output_type": "execute_result"
    }
   ],
   "source": [
    "duplicates_order_id_df().action.value_counts()"
   ]
  },
  {
   "cell_type": "code",
   "execution_count": null,
   "metadata": {},
   "outputs": [],
   "source": []
  },
  {
   "cell_type": "markdown",
   "metadata": {},
   "source": [
    "Проверю, совпадают ли даты в двух колонках, затем переведу в формат datetime"
   ]
  },
  {
   "cell_type": "code",
   "execution_count": 14,
   "metadata": {},
   "outputs": [
    {
     "data": {
      "text/plain": [
       "True    4337\n",
       "dtype: int64"
      ]
     },
     "execution_count": 14,
     "metadata": {},
     "output_type": "execute_result"
    }
   ],
   "source": [
    "(pd.to_datetime(users_data.time).dt.date == pd.to_datetime(users_data.date)) \\\n",
    "    .value_counts()"
   ]
  },
  {
   "cell_type": "code",
   "execution_count": 15,
   "metadata": {},
   "outputs": [],
   "source": [
    "users_data.time = pd.to_datetime(users_data.time)\n",
    "users_data.date = pd.to_datetime(users_data.date)"
   ]
  },
  {
   "cell_type": "markdown",
   "metadata": {},
   "source": [
    "Проверю уникальное количество значений во всех колонках"
   ]
  },
  {
   "cell_type": "code",
   "execution_count": 16,
   "metadata": {},
   "outputs": [
    {
     "data": {
      "text/plain": [
       "user_id     1017\n",
       "order_id    4123\n",
       "action         2\n",
       "time        4312\n",
       "date          14\n",
       "group          2\n",
       "dtype: int64"
      ]
     },
     "execution_count": 16,
     "metadata": {},
     "output_type": "execute_result"
    }
   ],
   "source": [
    "users_data.nunique()"
   ]
  },
  {
   "cell_type": "markdown",
   "metadata": {},
   "source": [
    "Любопытно, что общее кол-во строк во фрейме не совпадает с кол-вом уникальных значений в time. Думаю, это связано совпадениями по секундам. Также обращу внимание, что в среднем пользователи совершили около 4 заказов"
   ]
  },
  {
   "cell_type": "code",
   "execution_count": 17,
   "metadata": {},
   "outputs": [
    {
     "name": "stdout",
     "output_type": "stream",
     "text": [
      "Начало эксперимента:  2022-08-26 00:00:00 \n",
      "Конец эксперимента:  2022-09-08 00:00:00 \n",
      "Число дней экспериента:  14 days 00:00:00\n"
     ]
    }
   ],
   "source": [
    "print('Начало эксперимента: ', users_data.date.min(), \n",
    "      '\\nКонец эксперимента: ', users_data.date.max(),\n",
    "      '\\nЧисло дней экспериента: ', users_data.date.max() - users_data.date.min() + timedelta(days = 1))"
   ]
  },
  {
   "cell_type": "code",
   "execution_count": null,
   "metadata": {},
   "outputs": [],
   "source": []
  },
  {
   "cell_type": "markdown",
   "metadata": {},
   "source": [
    "Проверим следующие распределения:"
   ]
  },
  {
   "cell_type": "code",
   "execution_count": 18,
   "metadata": {},
   "outputs": [
    {
     "data": {
      "text/plain": [
       "1    2646\n",
       "0    1691\n",
       "Name: group, dtype: int64"
      ]
     },
     "execution_count": 18,
     "metadata": {},
     "output_type": "execute_result"
    }
   ],
   "source": [
    "# Всех заказов (включая дубликаты от отмен)\n",
    "users_data.group.value_counts()"
   ]
  },
  {
   "cell_type": "code",
   "execution_count": 19,
   "metadata": {},
   "outputs": [
    {
     "data": {
      "text/plain": [
       "1    2514\n",
       "0    1609\n",
       "Name: group, dtype: int64"
      ]
     },
     "execution_count": 19,
     "metadata": {},
     "output_type": "execute_result"
    }
   ],
   "source": [
    "# Всех заказов (не включая дубликаты)\n",
    "users_data.loc[users_data.action == 'create_order'].group.value_counts()"
   ]
  },
  {
   "cell_type": "code",
   "execution_count": 20,
   "metadata": {},
   "outputs": [
    {
     "data": {
      "text/plain": [
       "1    2382\n",
       "0    1527\n",
       "Name: group, dtype: int64"
      ]
     },
     "execution_count": 20,
     "metadata": {},
     "output_type": "execute_result"
    }
   ],
   "source": [
    "# Не отмененных заказов\n",
    "users_data.loc[users_data.order_id.isin(users_data\n",
    "                                        .loc[users_data.action == 'cancel_order']\n",
    "                                        .order_id) == False] \\\n",
    "    .query(\"action == 'create_order'\").group.value_counts()"
   ]
  },
  {
   "cell_type": "code",
   "execution_count": 21,
   "metadata": {},
   "outputs": [
    {
     "data": {
      "text/plain": [
       "1    132\n",
       "0     82\n",
       "Name: group, dtype: int64"
      ]
     },
     "execution_count": 21,
     "metadata": {},
     "output_type": "execute_result"
    }
   ],
   "source": [
    "# Отмененных заказов (не учитывая дубликаты)\n",
    "duplicates_order_id_df().query(\"action == 'create_order'\").group.value_counts()"
   ]
  },
  {
   "cell_type": "code",
   "execution_count": 22,
   "metadata": {},
   "outputs": [
    {
     "data": {
      "text/plain": [
       "0    515\n",
       "1    502\n",
       "Name: user_id, dtype: int64"
      ]
     },
     "execution_count": 22,
     "metadata": {},
     "output_type": "execute_result"
    }
   ],
   "source": [
    "# Пользователей по экспериментальным группам\n",
    "users_data.groupby('group', as_index = False).agg({'user_id' : 'nunique'}).user_id"
   ]
  },
  {
   "cell_type": "markdown",
   "metadata": {},
   "source": [
    "В целом, экспериментальные группы почти равны по пользователям.  \n",
    "Также для вычисления некоторых метрик удобнее работать с недублирующимеся айдишниками товаров, поэтому введу дополнительную колонку, где будет информация об отмене товара, и занесу в новый датафрейм без дубликатов id заказов"
   ]
  },
  {
   "cell_type": "code",
   "execution_count": 23,
   "metadata": {},
   "outputs": [],
   "source": [
    "users_data['is_canceled'] = users_data \\\n",
    "    .order_id \\\n",
    "    .isin(duplicates_order_id_df().order_id)\n",
    "\n",
    "users_clean = users_data.drop_duplicates(subset = ['order_id'])"
   ]
  },
  {
   "cell_type": "code",
   "execution_count": 24,
   "metadata": {},
   "outputs": [
    {
     "data": {
      "text/html": [
       "<div>\n",
       "<style scoped>\n",
       "    .dataframe tbody tr th:only-of-type {\n",
       "        vertical-align: middle;\n",
       "    }\n",
       "\n",
       "    .dataframe tbody tr th {\n",
       "        vertical-align: top;\n",
       "    }\n",
       "\n",
       "    .dataframe thead th {\n",
       "        text-align: right;\n",
       "    }\n",
       "</style>\n",
       "<table border=\"1\" class=\"dataframe\">\n",
       "  <thead>\n",
       "    <tr style=\"text-align: right;\">\n",
       "      <th></th>\n",
       "      <th>user_id</th>\n",
       "      <th>order_id</th>\n",
       "      <th>action</th>\n",
       "      <th>time</th>\n",
       "      <th>date</th>\n",
       "      <th>group</th>\n",
       "      <th>is_canceled</th>\n",
       "    </tr>\n",
       "  </thead>\n",
       "  <tbody>\n",
       "    <tr>\n",
       "      <th>0</th>\n",
       "      <td>964</td>\n",
       "      <td>1255</td>\n",
       "      <td>create_order</td>\n",
       "      <td>2022-08-26 00:00:19</td>\n",
       "      <td>2022-08-26</td>\n",
       "      <td>0</td>\n",
       "      <td>False</td>\n",
       "    </tr>\n",
       "    <tr>\n",
       "      <th>1</th>\n",
       "      <td>965</td>\n",
       "      <td>1256</td>\n",
       "      <td>create_order</td>\n",
       "      <td>2022-08-26 00:02:21</td>\n",
       "      <td>2022-08-26</td>\n",
       "      <td>1</td>\n",
       "      <td>False</td>\n",
       "    </tr>\n",
       "    <tr>\n",
       "      <th>2</th>\n",
       "      <td>964</td>\n",
       "      <td>1257</td>\n",
       "      <td>create_order</td>\n",
       "      <td>2022-08-26 00:02:27</td>\n",
       "      <td>2022-08-26</td>\n",
       "      <td>0</td>\n",
       "      <td>False</td>\n",
       "    </tr>\n",
       "  </tbody>\n",
       "</table>\n",
       "</div>"
      ],
      "text/plain": [
       "   user_id  order_id        action                time       date  group  \\\n",
       "0      964      1255  create_order 2022-08-26 00:00:19 2022-08-26      0   \n",
       "1      965      1256  create_order 2022-08-26 00:02:21 2022-08-26      1   \n",
       "2      964      1257  create_order 2022-08-26 00:02:27 2022-08-26      0   \n",
       "\n",
       "   is_canceled  \n",
       "0        False  \n",
       "1        False  \n",
       "2        False  "
      ]
     },
     "execution_count": 24,
     "metadata": {},
     "output_type": "execute_result"
    }
   ],
   "source": [
    "users_clean[:3]"
   ]
  },
  {
   "cell_type": "markdown",
   "metadata": {},
   "source": [
    "## Мердж датафреймов"
   ]
  },
  {
   "cell_type": "markdown",
   "metadata": {},
   "source": [
    "1. Развернем список продуктов в датафрейме **order_id**, переведя значения из строки в список значений int, и сольем его с датафреймом **products**  \n",
    "2. Сольем получившийся датафрейм с **users_clean**"
   ]
  },
  {
   "cell_type": "code",
   "execution_count": 25,
   "metadata": {},
   "outputs": [],
   "source": [
    "orders['product_ids'] = orders.product_ids.apply(lambda x: [int(i) for i in x.strip('{}').split(', ')])\n",
    "orders = orders.explode('product_ids')\n",
    "orders.rename(columns = {'product_ids' : 'product_id'}, inplace = True)"
   ]
  },
  {
   "cell_type": "code",
   "execution_count": 26,
   "metadata": {},
   "outputs": [
    {
     "data": {
      "text/html": [
       "<div>\n",
       "<style scoped>\n",
       "    .dataframe tbody tr th:only-of-type {\n",
       "        vertical-align: middle;\n",
       "    }\n",
       "\n",
       "    .dataframe tbody tr th {\n",
       "        vertical-align: top;\n",
       "    }\n",
       "\n",
       "    .dataframe thead th {\n",
       "        text-align: right;\n",
       "    }\n",
       "</style>\n",
       "<table border=\"1\" class=\"dataframe\">\n",
       "  <thead>\n",
       "    <tr style=\"text-align: right;\">\n",
       "      <th></th>\n",
       "      <th>order_id</th>\n",
       "      <th>creation_time</th>\n",
       "      <th>product_id</th>\n",
       "    </tr>\n",
       "  </thead>\n",
       "  <tbody>\n",
       "    <tr>\n",
       "      <th>0</th>\n",
       "      <td>1255</td>\n",
       "      <td>2022-08-26 00:00:19.000000</td>\n",
       "      <td>75</td>\n",
       "    </tr>\n",
       "    <tr>\n",
       "      <th>0</th>\n",
       "      <td>1255</td>\n",
       "      <td>2022-08-26 00:00:19.000000</td>\n",
       "      <td>22</td>\n",
       "    </tr>\n",
       "    <tr>\n",
       "      <th>0</th>\n",
       "      <td>1255</td>\n",
       "      <td>2022-08-26 00:00:19.000000</td>\n",
       "      <td>53</td>\n",
       "    </tr>\n",
       "  </tbody>\n",
       "</table>\n",
       "</div>"
      ],
      "text/plain": [
       "   order_id               creation_time product_id\n",
       "0      1255  2022-08-26 00:00:19.000000         75\n",
       "0      1255  2022-08-26 00:00:19.000000         22\n",
       "0      1255  2022-08-26 00:00:19.000000         53"
      ]
     },
     "execution_count": 26,
     "metadata": {},
     "output_type": "execute_result"
    }
   ],
   "source": [
    "orders[:3]"
   ]
  },
  {
   "cell_type": "code",
   "execution_count": 27,
   "metadata": {},
   "outputs": [],
   "source": [
    "orders_n_products = orders.merge(products, on = 'product_id')\n",
    "orders_n_products.creation_time = pd.to_datetime(orders_n_products.creation_time)\n",
    "\n",
    "general_clean = users_clean.merge(orders_n_products, on = 'order_id')"
   ]
  },
  {
   "cell_type": "code",
   "execution_count": 28,
   "metadata": {},
   "outputs": [],
   "source": [
    "# orders_n_products"
   ]
  },
  {
   "cell_type": "code",
   "execution_count": 29,
   "metadata": {},
   "outputs": [
    {
     "data": {
      "text/html": [
       "<div>\n",
       "<style scoped>\n",
       "    .dataframe tbody tr th:only-of-type {\n",
       "        vertical-align: middle;\n",
       "    }\n",
       "\n",
       "    .dataframe tbody tr th {\n",
       "        vertical-align: top;\n",
       "    }\n",
       "\n",
       "    .dataframe thead th {\n",
       "        text-align: right;\n",
       "    }\n",
       "</style>\n",
       "<table border=\"1\" class=\"dataframe\">\n",
       "  <thead>\n",
       "    <tr style=\"text-align: right;\">\n",
       "      <th></th>\n",
       "      <th>user_id</th>\n",
       "      <th>order_id</th>\n",
       "      <th>action</th>\n",
       "      <th>time</th>\n",
       "      <th>date</th>\n",
       "      <th>group</th>\n",
       "      <th>is_canceled</th>\n",
       "      <th>creation_time</th>\n",
       "      <th>product_id</th>\n",
       "      <th>name</th>\n",
       "      <th>price</th>\n",
       "    </tr>\n",
       "  </thead>\n",
       "  <tbody>\n",
       "    <tr>\n",
       "      <th>0</th>\n",
       "      <td>964</td>\n",
       "      <td>1255</td>\n",
       "      <td>create_order</td>\n",
       "      <td>2022-08-26 00:00:19</td>\n",
       "      <td>2022-08-26</td>\n",
       "      <td>0</td>\n",
       "      <td>False</td>\n",
       "      <td>2022-08-26 00:00:19</td>\n",
       "      <td>75</td>\n",
       "      <td>сок ананасовый</td>\n",
       "      <td>120.0</td>\n",
       "    </tr>\n",
       "    <tr>\n",
       "      <th>1</th>\n",
       "      <td>964</td>\n",
       "      <td>1255</td>\n",
       "      <td>create_order</td>\n",
       "      <td>2022-08-26 00:00:19</td>\n",
       "      <td>2022-08-26</td>\n",
       "      <td>0</td>\n",
       "      <td>False</td>\n",
       "      <td>2022-08-26 00:00:19</td>\n",
       "      <td>22</td>\n",
       "      <td>сок мультифрукт</td>\n",
       "      <td>120.0</td>\n",
       "    </tr>\n",
       "    <tr>\n",
       "      <th>2</th>\n",
       "      <td>964</td>\n",
       "      <td>1255</td>\n",
       "      <td>create_order</td>\n",
       "      <td>2022-08-26 00:00:19</td>\n",
       "      <td>2022-08-26</td>\n",
       "      <td>0</td>\n",
       "      <td>False</td>\n",
       "      <td>2022-08-26 00:00:19</td>\n",
       "      <td>53</td>\n",
       "      <td>мука</td>\n",
       "      <td>78.3</td>\n",
       "    </tr>\n",
       "    <tr>\n",
       "      <th>3</th>\n",
       "      <td>964</td>\n",
       "      <td>1255</td>\n",
       "      <td>create_order</td>\n",
       "      <td>2022-08-26 00:00:19</td>\n",
       "      <td>2022-08-26</td>\n",
       "      <td>0</td>\n",
       "      <td>False</td>\n",
       "      <td>2022-08-26 00:00:19</td>\n",
       "      <td>84</td>\n",
       "      <td>мандарины</td>\n",
       "      <td>90.4</td>\n",
       "    </tr>\n",
       "    <tr>\n",
       "      <th>4</th>\n",
       "      <td>965</td>\n",
       "      <td>1256</td>\n",
       "      <td>create_order</td>\n",
       "      <td>2022-08-26 00:02:21</td>\n",
       "      <td>2022-08-26</td>\n",
       "      <td>1</td>\n",
       "      <td>False</td>\n",
       "      <td>2022-08-26 00:02:21</td>\n",
       "      <td>56</td>\n",
       "      <td>сосиски</td>\n",
       "      <td>150.0</td>\n",
       "    </tr>\n",
       "  </tbody>\n",
       "</table>\n",
       "</div>"
      ],
      "text/plain": [
       "   user_id  order_id        action                time       date  group  \\\n",
       "0      964      1255  create_order 2022-08-26 00:00:19 2022-08-26      0   \n",
       "1      964      1255  create_order 2022-08-26 00:00:19 2022-08-26      0   \n",
       "2      964      1255  create_order 2022-08-26 00:00:19 2022-08-26      0   \n",
       "3      964      1255  create_order 2022-08-26 00:00:19 2022-08-26      0   \n",
       "4      965      1256  create_order 2022-08-26 00:02:21 2022-08-26      1   \n",
       "\n",
       "   is_canceled       creation_time product_id             name  price  \n",
       "0        False 2022-08-26 00:00:19         75   сок ананасовый  120.0  \n",
       "1        False 2022-08-26 00:00:19         22  сок мультифрукт  120.0  \n",
       "2        False 2022-08-26 00:00:19         53             мука   78.3  \n",
       "3        False 2022-08-26 00:00:19         84        мандарины   90.4  \n",
       "4        False 2022-08-26 00:02:21         56          сосиски  150.0  "
      ]
     },
     "execution_count": 29,
     "metadata": {},
     "output_type": "execute_result"
    }
   ],
   "source": [
    "general_clean.head()"
   ]
  },
  {
   "cell_type": "markdown",
   "metadata": {},
   "source": [
    "**general_clean** - наш итоговый датафрейм, содержащий информацию по продуктом в каждом заказе и информацию о заказах для каждого пользователя"
   ]
  },
  {
   "cell_type": "markdown",
   "metadata": {},
   "source": [
    "[К началу ↑↑↑](#title1)"
   ]
  },
  {
   "cell_type": "markdown",
   "metadata": {},
   "source": [
    "# <a id=\"title2\"> Анализ данных </a>"
   ]
  },
  {
   "cell_type": "markdown",
   "metadata": {},
   "source": [
    "[К метрике ARPPU](#ARPPU2)"
   ]
  },
  {
   "cell_type": "markdown",
   "metadata": {},
   "source": [
    "[К метрике АOV](#AOV2)"
   ]
  },
  {
   "cell_type": "markdown",
   "metadata": {},
   "source": [
    "[К метрике OCR](#OCR2)"
   ]
  },
  {
   "cell_type": "markdown",
   "metadata": {},
   "source": [
    "[К общему выводу ↓↓↓](#Conclusion2)"
   ]
  },
  {
   "cell_type": "markdown",
   "metadata": {},
   "source": [
    "# Выбор метрик\n",
    "### <a id=\"mark2\"> Подходящие метрики </a>\n",
    "I. **Метрики прибыли**\n",
    "1. **Revenue**. Общая выручка.\n",
    "2. **ARPPU**. Общий доход от платящих пользователей / Количество платящих пользователей.\n",
    "3. **AOV**. Сумма от всех покупок / Количество покупок.\n",
    "\n",
    "II. **Метрики активности пользователей**\n",
    "1. **DAU**. Количество активных пользователей в день.\n",
    "2. **Sickness**. (Средний DAU) / WAU\n",
    "\n",
    "III. **Метрики оттока**\n",
    "1. **Product Return Rate**. Количество возвращенных товаров / Общее количество проданных товаров * 100%.\n",
    "2. **Churn rate**. Количество потерянных покупателей в конце периода, деленное на общее количество в начале периода"
   ]
  },
  {
   "cell_type": "markdown",
   "metadata": {},
   "source": [
    "Выше перечислены возможные метрики, которыми мы могли бы оценить качество нашего сервиса. Не секрет, что некоторые из них будут менее подходящими для этой оценки. Например, считаю, что такая метрика, как Churn rate, лучше применима для более продолжительного периода, чем 14 дней. Даже не смотря на то, что среднее число покупок ~4, такой временной промежуток не достаточен для какого-либо вывода по коэффициенту оттоку юзера. \n",
    "  \n",
    " \n",
    "- В качестве метрик, которые оценят прибыль с двух смежных сторон, я возьму метрики **ARPPU** и **AOV**.   \n",
    "    - Метрика ARPPU отражает среднюю выручку от каждого платящего пользователя и может дать более целостное представление об этой группе. Таким образом, изменения этой метрики в лучшую сторону может дать сигнал об увеличении размера базы платежеспособных покупателей. То есть значение ARPPU подскажет нам, что пользователи сталли больше тратить, вследствие внедрения новой рекомендательной системы.\n",
    "    - Метрика AOV отражает средний чек по заказам. В целом она схожа с ARPPU за исключением того, что мы будем искать различия в размере заказов, а не в размере трат пользователей. Результаты изменений отразят информацию о том, как много пользователь стал покупать за раз. Отмечу, что эта метрика меньше коррелирует с метрикой Revenue, т.к. на выручку еще влияет частота покупок. \n",
    "- В качестве метрики, которая оценит частоту отмен, я модифицирую метрику **Product Return Rate**, подставив вместо количества возвратов количество отмен. Такая уже есть и называется она **Order Cancellation Rate**. Отмены позволят взглянуть на изменения в экспериментальных группах с другой стороны - стороны отмен покупок, то издержек нашей рекомендательной из-за которых пользователи передумали."
   ]
  },
  {
   "cell_type": "markdown",
   "metadata": {},
   "source": [
    "### Итак, выбранные метрики:\n",
    "1. **ARPPU** - целевая\n",
    "2. **AOV** - прокси\n",
    "3. **Order Cancellation Rate** - прокси"
   ]
  },
  {
   "cell_type": "markdown",
   "metadata": {},
   "source": [
    "# Метрика Revenue"
   ]
  },
  {
   "cell_type": "markdown",
   "metadata": {},
   "source": [
    "Нельзя не упомянуть основную метрику для большинста бизнесов - общую выручку. В качестве датафрейма для работы с данными и исследования метрик я возьму general_clean и буду исключать отмененные заказы для исследований. Исключением будет являться метрика OCR, в которой я изучу ситуацию с отменами."
   ]
  },
  {
   "cell_type": "code",
   "execution_count": 30,
   "metadata": {},
   "outputs": [],
   "source": [
    "products_not_canceled = general_clean.query(\"is_canceled == False\")"
   ]
  },
  {
   "cell_type": "code",
   "execution_count": 31,
   "metadata": {},
   "outputs": [
    {
     "data": {
      "text/html": [
       "<div>\n",
       "<style scoped>\n",
       "    .dataframe tbody tr th:only-of-type {\n",
       "        vertical-align: middle;\n",
       "    }\n",
       "\n",
       "    .dataframe tbody tr th {\n",
       "        vertical-align: top;\n",
       "    }\n",
       "\n",
       "    .dataframe thead th {\n",
       "        text-align: right;\n",
       "    }\n",
       "</style>\n",
       "<table border=\"1\" class=\"dataframe\">\n",
       "  <thead>\n",
       "    <tr style=\"text-align: right;\">\n",
       "      <th></th>\n",
       "      <th>user_id</th>\n",
       "      <th>order_id</th>\n",
       "      <th>action</th>\n",
       "      <th>time</th>\n",
       "      <th>date</th>\n",
       "      <th>group</th>\n",
       "      <th>is_canceled</th>\n",
       "      <th>creation_time</th>\n",
       "      <th>product_id</th>\n",
       "      <th>name</th>\n",
       "      <th>price</th>\n",
       "    </tr>\n",
       "  </thead>\n",
       "  <tbody>\n",
       "    <tr>\n",
       "      <th>0</th>\n",
       "      <td>964</td>\n",
       "      <td>1255</td>\n",
       "      <td>create_order</td>\n",
       "      <td>2022-08-26 00:00:19</td>\n",
       "      <td>2022-08-26</td>\n",
       "      <td>0</td>\n",
       "      <td>False</td>\n",
       "      <td>2022-08-26 00:00:19</td>\n",
       "      <td>75</td>\n",
       "      <td>сок ананасовый</td>\n",
       "      <td>120.0</td>\n",
       "    </tr>\n",
       "    <tr>\n",
       "      <th>1</th>\n",
       "      <td>964</td>\n",
       "      <td>1255</td>\n",
       "      <td>create_order</td>\n",
       "      <td>2022-08-26 00:00:19</td>\n",
       "      <td>2022-08-26</td>\n",
       "      <td>0</td>\n",
       "      <td>False</td>\n",
       "      <td>2022-08-26 00:00:19</td>\n",
       "      <td>22</td>\n",
       "      <td>сок мультифрукт</td>\n",
       "      <td>120.0</td>\n",
       "    </tr>\n",
       "    <tr>\n",
       "      <th>2</th>\n",
       "      <td>964</td>\n",
       "      <td>1255</td>\n",
       "      <td>create_order</td>\n",
       "      <td>2022-08-26 00:00:19</td>\n",
       "      <td>2022-08-26</td>\n",
       "      <td>0</td>\n",
       "      <td>False</td>\n",
       "      <td>2022-08-26 00:00:19</td>\n",
       "      <td>53</td>\n",
       "      <td>мука</td>\n",
       "      <td>78.3</td>\n",
       "    </tr>\n",
       "  </tbody>\n",
       "</table>\n",
       "</div>"
      ],
      "text/plain": [
       "   user_id  order_id        action                time       date  group  \\\n",
       "0      964      1255  create_order 2022-08-26 00:00:19 2022-08-26      0   \n",
       "1      964      1255  create_order 2022-08-26 00:00:19 2022-08-26      0   \n",
       "2      964      1255  create_order 2022-08-26 00:00:19 2022-08-26      0   \n",
       "\n",
       "   is_canceled       creation_time product_id             name  price  \n",
       "0        False 2022-08-26 00:00:19         75   сок ананасовый  120.0  \n",
       "1        False 2022-08-26 00:00:19         22  сок мультифрукт  120.0  \n",
       "2        False 2022-08-26 00:00:19         53             мука   78.3  "
      ]
     },
     "execution_count": 31,
     "metadata": {},
     "output_type": "execute_result"
    }
   ],
   "source": [
    "products_not_canceled[:3]"
   ]
  },
  {
   "cell_type": "code",
   "execution_count": 32,
   "metadata": {},
   "outputs": [
    {
     "data": {
      "text/html": [
       "<div>\n",
       "<style scoped>\n",
       "    .dataframe tbody tr th:only-of-type {\n",
       "        vertical-align: middle;\n",
       "    }\n",
       "\n",
       "    .dataframe tbody tr th {\n",
       "        vertical-align: top;\n",
       "    }\n",
       "\n",
       "    .dataframe thead th {\n",
       "        text-align: right;\n",
       "    }\n",
       "</style>\n",
       "<table border=\"1\" class=\"dataframe\">\n",
       "  <thead>\n",
       "    <tr style=\"text-align: right;\">\n",
       "      <th></th>\n",
       "      <th>group</th>\n",
       "      <th>revenue</th>\n",
       "      <th>user_count</th>\n",
       "    </tr>\n",
       "  </thead>\n",
       "  <tbody>\n",
       "    <tr>\n",
       "      <th>0</th>\n",
       "      <td>0</td>\n",
       "      <td>583455.9</td>\n",
       "      <td>512</td>\n",
       "    </tr>\n",
       "    <tr>\n",
       "      <th>1</th>\n",
       "      <td>1</td>\n",
       "      <td>878628.4</td>\n",
       "      <td>501</td>\n",
       "    </tr>\n",
       "  </tbody>\n",
       "</table>\n",
       "</div>"
      ],
      "text/plain": [
       "   group   revenue  user_count\n",
       "0      0  583455.9         512\n",
       "1      1  878628.4         501"
      ]
     },
     "execution_count": 32,
     "metadata": {},
     "output_type": "execute_result"
    }
   ],
   "source": [
    "revenue_df_preview = products_not_canceled.groupby('group', as_index = False) \\\n",
    "    .agg({'price' : 'sum', 'user_id' : 'nunique'}) \\\n",
    "    .rename(columns = {'price' : 'revenue', 'user_id' : 'user_count'})\n",
    "revenue_df_preview"
   ]
  },
  {
   "cell_type": "code",
   "execution_count": 33,
   "metadata": {},
   "outputs": [
    {
     "name": "stdout",
     "output_type": "stream",
     "text": [
      "Разница между общей выручкой от тестовой группы = 878628.4 и контрольной группы = 583455.9 равняется 295172.5\n"
     ]
    }
   ],
   "source": [
    "print('Разница между общей выручкой от тестовой группы =', revenue_df_preview['revenue'][1].round(1), \n",
    "      'и контрольной группы =', revenue_df_preview['revenue'][0].round(1), 'равняется', \n",
    "      revenue_df_preview['revenue'][1].round(1) - revenue_df_preview['revenue'][0].round(1))"
   ]
  },
  {
   "cell_type": "code",
   "execution_count": null,
   "metadata": {},
   "outputs": [],
   "source": []
  },
  {
   "cell_type": "markdown",
   "metadata": {},
   "source": [
    "[К списку метрик↑↑↑](#mark2)"
   ]
  },
  {
   "cell_type": "markdown",
   "metadata": {},
   "source": [
    "# Метрика ARPPU"
   ]
  },
  {
   "cell_type": "markdown",
   "metadata": {},
   "source": [
    "<a id=\"ARPPU2\"> ARPPU </a>"
   ]
  },
  {
   "cell_type": "markdown",
   "metadata": {},
   "source": [
    "[К метрике АOV↓](#AOV2)"
   ]
  },
  {
   "cell_type": "code",
   "execution_count": 34,
   "metadata": {},
   "outputs": [
    {
     "data": {
      "text/html": [
       "<div>\n",
       "<style scoped>\n",
       "    .dataframe tbody tr th:only-of-type {\n",
       "        vertical-align: middle;\n",
       "    }\n",
       "\n",
       "    .dataframe tbody tr th {\n",
       "        vertical-align: top;\n",
       "    }\n",
       "\n",
       "    .dataframe thead th {\n",
       "        text-align: right;\n",
       "    }\n",
       "</style>\n",
       "<table border=\"1\" class=\"dataframe\">\n",
       "  <thead>\n",
       "    <tr style=\"text-align: right;\">\n",
       "      <th></th>\n",
       "      <th>group</th>\n",
       "      <th>revenue</th>\n",
       "      <th>user_count</th>\n",
       "      <th>ARPPU</th>\n",
       "    </tr>\n",
       "  </thead>\n",
       "  <tbody>\n",
       "    <tr>\n",
       "      <th>0</th>\n",
       "      <td>0</td>\n",
       "      <td>583455.9</td>\n",
       "      <td>512</td>\n",
       "      <td>1139.562305</td>\n",
       "    </tr>\n",
       "    <tr>\n",
       "      <th>1</th>\n",
       "      <td>1</td>\n",
       "      <td>878628.4</td>\n",
       "      <td>501</td>\n",
       "      <td>1753.749301</td>\n",
       "    </tr>\n",
       "  </tbody>\n",
       "</table>\n",
       "</div>"
      ],
      "text/plain": [
       "   group   revenue  user_count        ARPPU\n",
       "0      0  583455.9         512  1139.562305\n",
       "1      1  878628.4         501  1753.749301"
      ]
     },
     "execution_count": 34,
     "metadata": {},
     "output_type": "execute_result"
    }
   ],
   "source": [
    "# Посмотрим на наши средние выручки с пользователей в двух группах\n",
    "ARPPU_preview_df = products_not_canceled.groupby('group', as_index = False) \\\n",
    "    .agg({'price' : 'sum', 'user_id' : 'nunique'}) \\\n",
    "    .rename(columns = {'price' : 'revenue', 'user_id' : 'user_count'})\n",
    "ARPPU_preview_df['ARPPU'] = ARPPU_preview_df.revenue / ARPPU_preview_df.user_count\n",
    "ARPPU_preview_df"
   ]
  },
  {
   "cell_type": "markdown",
   "metadata": {},
   "source": [
    "Средняя потраченная сумма пользователя в тестовой группе больше, чем в контрольной. Проведем тесты, чтобы проверить статистическую значимость разницы средних"
   ]
  },
  {
   "cell_type": "markdown",
   "metadata": {},
   "source": [
    "### Формулировка гипотез\n",
    "**H<sub>0</sub>** - средние в контрольной и экспериментальной группе статистически значимо **не различаются**. То есть различия ARPPU случайны   \n",
    "**H<sub>1</sub>** - средние в контрольной и экспериментальной группе статистически значимо **различаются**. То есть в различиях ARPPU есть закономерность "
   ]
  },
  {
   "cell_type": "code",
   "execution_count": 35,
   "metadata": {},
   "outputs": [],
   "source": [
    "# Возьмем только нужные нам переменные\n",
    "ARPPU_df = products_not_canceled[['group', 'user_id', 'price']]"
   ]
  },
  {
   "cell_type": "code",
   "execution_count": 36,
   "metadata": {},
   "outputs": [],
   "source": [
    "ARPPU_df = ARPPU_df.groupby(['group', 'user_id'], as_index = False).agg({'price' : 'sum'})"
   ]
  },
  {
   "cell_type": "code",
   "execution_count": 37,
   "metadata": {},
   "outputs": [
    {
     "data": {
      "text/html": [
       "<div>\n",
       "<style scoped>\n",
       "    .dataframe tbody tr th:only-of-type {\n",
       "        vertical-align: middle;\n",
       "    }\n",
       "\n",
       "    .dataframe tbody tr th {\n",
       "        vertical-align: top;\n",
       "    }\n",
       "\n",
       "    .dataframe thead th {\n",
       "        text-align: right;\n",
       "    }\n",
       "</style>\n",
       "<table border=\"1\" class=\"dataframe\">\n",
       "  <thead>\n",
       "    <tr style=\"text-align: right;\">\n",
       "      <th></th>\n",
       "      <th>group</th>\n",
       "      <th>user_id</th>\n",
       "      <th>price</th>\n",
       "    </tr>\n",
       "  </thead>\n",
       "  <tbody>\n",
       "    <tr>\n",
       "      <th>0</th>\n",
       "      <td>0</td>\n",
       "      <td>964</td>\n",
       "      <td>718.9</td>\n",
       "    </tr>\n",
       "    <tr>\n",
       "      <th>1</th>\n",
       "      <td>0</td>\n",
       "      <td>968</td>\n",
       "      <td>1590.7</td>\n",
       "    </tr>\n",
       "    <tr>\n",
       "      <th>2</th>\n",
       "      <td>0</td>\n",
       "      <td>969</td>\n",
       "      <td>681.9</td>\n",
       "    </tr>\n",
       "    <tr>\n",
       "      <th>3</th>\n",
       "      <td>0</td>\n",
       "      <td>972</td>\n",
       "      <td>546.4</td>\n",
       "    </tr>\n",
       "    <tr>\n",
       "      <th>4</th>\n",
       "      <td>0</td>\n",
       "      <td>975</td>\n",
       "      <td>1432.9</td>\n",
       "    </tr>\n",
       "  </tbody>\n",
       "</table>\n",
       "</div>"
      ],
      "text/plain": [
       "   group  user_id   price\n",
       "0      0      964   718.9\n",
       "1      0      968  1590.7\n",
       "2      0      969   681.9\n",
       "3      0      972   546.4\n",
       "4      0      975  1432.9"
      ]
     },
     "execution_count": 37,
     "metadata": {},
     "output_type": "execute_result"
    }
   ],
   "source": [
    "ARPPU_df.head()"
   ]
  },
  {
   "cell_type": "code",
   "execution_count": 38,
   "metadata": {},
   "outputs": [
    {
     "data": {
      "image/png": "[encoded data removed]",
      "text/plain": [
       "<Figure size 864x288 with 2 Axes>"
      ]
     },
     "metadata": {
      "needs_background": "light"
     },
     "output_type": "display_data"
    }
   ],
   "source": [
    "fig, axes = plt.subplots(1, 2, figsize=(12, 4))\n",
    "\n",
    "sns.histplot(ARPPU_df.query(\"group == 0\").price, ax=axes[0], bins = 50, kde = True)\n",
    "axes[0].set_title('Распределение выручек с клиента контрольной группы')\n",
    "\n",
    "sns.histplot(ARPPU_df.query(\"group == 1\").price, ax=axes[1], bins = 50, kde = True)\n",
    "axes[1].set_title('Распределение выручек с клиента тестовой группы')\n",
    "\n",
    "plt.tight_layout() \n",
    "plt.show()\n"
   ]
  },
  {
   "cell_type": "markdown",
   "metadata": {},
   "source": [
    "### Проверка на параметрические условия"
   ]
  },
  {
   "cell_type": "code",
   "execution_count": 39,
   "metadata": {},
   "outputs": [
    {
     "data": {
      "image/png": "[encoded data removed]",
      "text/plain": [
       "<Figure size 402.375x360 with 1 Axes>"
      ]
     },
     "metadata": {
      "needs_background": "light"
     },
     "output_type": "display_data"
    },
    {
     "name": "stdout",
     "output_type": "stream",
     "text": [
      "Ср. отклонение контрольной группы:  809.017708520745\n",
      "Ср. отклонение тестовой группы:  927.8335669335605\n",
      "p-value гомогенности дисперсий:  1.896012459520485e-05\n",
      "\n",
      "p-value нормальности для контрольной группы:  8.713836969217895e-19\n",
      "p-value нормальности для тестовой группы:  1.408598961916141e-07\n"
     ]
    }
   ],
   "source": [
    "ttest_conditions(ARPPU_df, \n",
    "                 ARPPU_df.loc[ARPPU_df.group == 0].price, \n",
    "                 ARPPU_df.loc[ARPPU_df.group == 1].price, \n",
    "                 ARPPU_df.price, \n",
    "                 ARPPU_df.group)"
   ]
  },
  {
   "cell_type": "markdown",
   "metadata": {},
   "source": [
    "Видно, что распределения визуально близки к нормальным, однако тест Шапиро-Уилка нам это не показал (вероятно из-за сильной чувствительности к выбросам) - p-value < &alpha; (&alpha; = 0.05 далее). Помимо этого, не соблюдены требования гомогенности дисперсий. **Параметрические условия не соблюдены**. Пробую пролагорифимровать:"
   ]
  },
  {
   "cell_type": "code",
   "execution_count": 40,
   "metadata": {},
   "outputs": [
    {
     "data": {
      "image/png": "[encoded data removed]",
      "text/plain": [
       "<Figure size 402.375x360 with 1 Axes>"
      ]
     },
     "metadata": {
      "needs_background": "light"
     },
     "output_type": "display_data"
    },
    {
     "name": "stdout",
     "output_type": "stream",
     "text": [
      "Ср. отклонение контрольной группы:  0.8059337981940001\n",
      "Ср. отклонение тестовой группы:  0.6778247104093954\n",
      "p-value гомогенности дисперсий:  0.0005415443168401095\n",
      "\n",
      "p-value нормальности для контрольной группы:  7.013428171553926e-10\n",
      "p-value нормальности для тестовой группы:  2.724891650548165e-15\n"
     ]
    }
   ],
   "source": [
    "ttest_conditions(ARPPU_df, \n",
    "                 np.log(ARPPU_df.loc[ARPPU_df.group == 0].price), \n",
    "                 np.log(ARPPU_df.loc[ARPPU_df.group == 1].price), \n",
    "                 np.log(ARPPU_df.price), \n",
    "                 ARPPU_df.group)"
   ]
  },
  {
   "cell_type": "markdown",
   "metadata": {},
   "source": [
    "p-value снова < α и в проверке на нормальность, и в проверке на гомогенность дисперсий.  \n",
    "  \n",
    "  Итак, **выбираю непараметрический стат тест Манна-Уитни**, как основной. Я также проверю стат значимость Т-тестом Стьюдента, т.к. визуально распределения близки к нормальным"
   ]
  },
  {
   "cell_type": "code",
   "execution_count": null,
   "metadata": {},
   "outputs": [],
   "source": []
  },
  {
   "cell_type": "markdown",
   "metadata": {},
   "source": [
    "### Стат тесты"
   ]
  },
  {
   "cell_type": "markdown",
   "metadata": {},
   "source": [
    "#### Тест Манна-Уитни"
   ]
  },
  {
   "cell_type": "code",
   "execution_count": 41,
   "metadata": {},
   "outputs": [
    {
     "data": {
      "text/plain": [
       "MannwhitneyuResult(statistic=75130.0, pvalue=3.687870151753067e-30)"
      ]
     },
     "execution_count": 41,
     "metadata": {},
     "output_type": "execute_result"
    }
   ],
   "source": [
    "stats.mannwhitneyu(ARPPU_df.loc[ARPPU_df.group == 0].price,\n",
    "                   ARPPU_df.loc[ARPPU_df.group == 1].price)"
   ]
  },
  {
   "cell_type": "markdown",
   "metadata": {},
   "source": [
    "p-value < &alpha; -> изменения статсзначимы"
   ]
  },
  {
   "cell_type": "markdown",
   "metadata": {},
   "source": [
    "#### Т-тест "
   ]
  },
  {
   "cell_type": "code",
   "execution_count": 42,
   "metadata": {},
   "outputs": [
    {
     "data": {
      "text/plain": [
       "Ttest_indResult(statistic=-11.225235903309475, pvalue=1.2229806926590051e-27)"
      ]
     },
     "execution_count": 42,
     "metadata": {},
     "output_type": "execute_result"
    }
   ],
   "source": [
    "stats.ttest_ind(ARPPU_df.loc[ARPPU_df.group == 0].price,\n",
    "                ARPPU_df.loc[ARPPU_df.group == 1].price)"
   ]
  },
  {
   "cell_type": "markdown",
   "metadata": {},
   "source": [
    "p-value < &alpha; -> изменения статсзначимы"
   ]
  },
  {
   "cell_type": "markdown",
   "metadata": {},
   "source": [
    "#### Bootstrap"
   ]
  },
  {
   "cell_type": "markdown",
   "metadata": {},
   "source": [
    "Применю методику bootstrap, просимулировав эксперимент для каждой экспериментальной группы 9999 раз, и посчитаем 95% доверительные интервалы для средних:"
   ]
  },
  {
   "cell_type": "code",
   "execution_count": 43,
   "metadata": {},
   "outputs": [
    {
     "data": {
      "text/plain": [
       "ConfidenceInterval(low=1073.771725502968, high=1215.8890617596608)"
      ]
     },
     "execution_count": 43,
     "metadata": {},
     "output_type": "execute_result"
    }
   ],
   "source": [
    "stats.bootstrap((ARPPU_df.loc[ARPPU_df.group == 0].price, ), statistic = np.mean) \\\n",
    "    .confidence_interval"
   ]
  },
  {
   "cell_type": "code",
   "execution_count": 44,
   "metadata": {},
   "outputs": [
    {
     "data": {
      "text/plain": [
       "ConfidenceInterval(low=1673.1633101501147, high=1833.7100985970305)"
      ]
     },
     "execution_count": 44,
     "metadata": {},
     "output_type": "execute_result"
    }
   ],
   "source": [
    "stats.bootstrap((ARPPU_df.loc[ARPPU_df.group == 1].price, ), statistic = np.mean) \\\n",
    "    .confidence_interval"
   ]
  },
  {
   "cell_type": "code",
   "execution_count": 45,
   "metadata": {},
   "outputs": [
    {
     "data": {
      "text/html": [
       "<div>\n",
       "<style scoped>\n",
       "    .dataframe tbody tr th:only-of-type {\n",
       "        vertical-align: middle;\n",
       "    }\n",
       "\n",
       "    .dataframe tbody tr th {\n",
       "        vertical-align: top;\n",
       "    }\n",
       "\n",
       "    .dataframe thead th {\n",
       "        text-align: right;\n",
       "    }\n",
       "</style>\n",
       "<table border=\"1\" class=\"dataframe\">\n",
       "  <thead>\n",
       "    <tr style=\"text-align: right;\">\n",
       "      <th></th>\n",
       "      <th>group</th>\n",
       "      <th>revenue</th>\n",
       "      <th>user_count</th>\n",
       "      <th>ARPPU</th>\n",
       "    </tr>\n",
       "  </thead>\n",
       "  <tbody>\n",
       "    <tr>\n",
       "      <th>0</th>\n",
       "      <td>0</td>\n",
       "      <td>583455.9</td>\n",
       "      <td>512</td>\n",
       "      <td>1139.562305</td>\n",
       "    </tr>\n",
       "    <tr>\n",
       "      <th>1</th>\n",
       "      <td>1</td>\n",
       "      <td>878628.4</td>\n",
       "      <td>501</td>\n",
       "      <td>1753.749301</td>\n",
       "    </tr>\n",
       "  </tbody>\n",
       "</table>\n",
       "</div>"
      ],
      "text/plain": [
       "   group   revenue  user_count        ARPPU\n",
       "0      0  583455.9         512  1139.562305\n",
       "1      1  878628.4         501  1753.749301"
      ]
     },
     "execution_count": 45,
     "metadata": {},
     "output_type": "execute_result"
    }
   ],
   "source": [
    "ARPPU_preview_df"
   ]
  },
  {
   "cell_type": "code",
   "execution_count": 46,
   "metadata": {},
   "outputs": [
    {
     "data": {
      "text/plain": [
       "614.1869967097639"
      ]
     },
     "execution_count": 46,
     "metadata": {},
     "output_type": "execute_result"
    }
   ],
   "source": [
    "ARPPU_diff = ARPPU_preview_df['ARPPU'][1] - ARPPU_preview_df['ARPPU'][0]\n",
    "ARPPU_diff"
   ]
  },
  {
   "cell_type": "markdown",
   "metadata": {},
   "source": [
    "### Вывод по метрике ARPPU"
   ]
  },
  {
   "cell_type": "markdown",
   "metadata": {},
   "source": [
    "Проведенный тест **Манна-Уитни** и в том числе **Т-тест** дают нам повод опровергнуть **H<sub>0</sub>** в пользу **H<sub>1</sub>**. Таким образом, мы можем быть на более чем 95%-в уверены, что среднее значение ARPPU в экспериментальной группе будет стат значимо различаться со средним ARPPU в контрольной группе.  \n",
    "Подтверждением вышесказанного также является вычисление 95%-х доверительных интервалов средних методикой **Bootstrap**. Как мы видим, интервалы не имеют пересечений среди своих 2.5%-х и 97.5%-х квантилей.  \n",
    "  \n",
    "  **В итоге мы имеем статзначимые изменения ARPPU в экспериментальной группе по сравнинию с контрольной, причем эти изменения положительны и равняются примерно `ARPPU_diff = 614`**"
   ]
  },
  {
   "cell_type": "code",
   "execution_count": null,
   "metadata": {},
   "outputs": [],
   "source": []
  },
  {
   "cell_type": "code",
   "execution_count": null,
   "metadata": {},
   "outputs": [],
   "source": []
  },
  {
   "cell_type": "markdown",
   "metadata": {},
   "source": [
    "[К метрике ARPPU↑](#ARPPU2)"
   ]
  },
  {
   "cell_type": "markdown",
   "metadata": {},
   "source": [
    "[К списку метрик↑↑↑](#mark2)"
   ]
  },
  {
   "cell_type": "markdown",
   "metadata": {},
   "source": [
    "# Метрика AOV"
   ]
  },
  {
   "cell_type": "markdown",
   "metadata": {},
   "source": [
    "<a id=\"AOV2\">AOV</a>"
   ]
  },
  {
   "cell_type": "markdown",
   "metadata": {},
   "source": [
    "[К метрике OCR↓](#OCR2)"
   ]
  },
  {
   "cell_type": "code",
   "execution_count": 47,
   "metadata": {},
   "outputs": [
    {
     "data": {
      "text/html": [
       "<div>\n",
       "<style scoped>\n",
       "    .dataframe tbody tr th:only-of-type {\n",
       "        vertical-align: middle;\n",
       "    }\n",
       "\n",
       "    .dataframe tbody tr th {\n",
       "        vertical-align: top;\n",
       "    }\n",
       "\n",
       "    .dataframe thead th {\n",
       "        text-align: right;\n",
       "    }\n",
       "</style>\n",
       "<table border=\"1\" class=\"dataframe\">\n",
       "  <thead>\n",
       "    <tr style=\"text-align: right;\">\n",
       "      <th></th>\n",
       "      <th>user_id</th>\n",
       "      <th>order_id</th>\n",
       "      <th>action</th>\n",
       "      <th>time</th>\n",
       "      <th>date</th>\n",
       "      <th>group</th>\n",
       "      <th>is_canceled</th>\n",
       "      <th>creation_time</th>\n",
       "      <th>product_id</th>\n",
       "      <th>name</th>\n",
       "      <th>price</th>\n",
       "    </tr>\n",
       "  </thead>\n",
       "  <tbody>\n",
       "    <tr>\n",
       "      <th>0</th>\n",
       "      <td>964</td>\n",
       "      <td>1255</td>\n",
       "      <td>create_order</td>\n",
       "      <td>2022-08-26 00:00:19</td>\n",
       "      <td>2022-08-26</td>\n",
       "      <td>0</td>\n",
       "      <td>False</td>\n",
       "      <td>2022-08-26 00:00:19</td>\n",
       "      <td>75</td>\n",
       "      <td>сок ананасовый</td>\n",
       "      <td>120.0</td>\n",
       "    </tr>\n",
       "    <tr>\n",
       "      <th>1</th>\n",
       "      <td>964</td>\n",
       "      <td>1255</td>\n",
       "      <td>create_order</td>\n",
       "      <td>2022-08-26 00:00:19</td>\n",
       "      <td>2022-08-26</td>\n",
       "      <td>0</td>\n",
       "      <td>False</td>\n",
       "      <td>2022-08-26 00:00:19</td>\n",
       "      <td>22</td>\n",
       "      <td>сок мультифрукт</td>\n",
       "      <td>120.0</td>\n",
       "    </tr>\n",
       "    <tr>\n",
       "      <th>2</th>\n",
       "      <td>964</td>\n",
       "      <td>1255</td>\n",
       "      <td>create_order</td>\n",
       "      <td>2022-08-26 00:00:19</td>\n",
       "      <td>2022-08-26</td>\n",
       "      <td>0</td>\n",
       "      <td>False</td>\n",
       "      <td>2022-08-26 00:00:19</td>\n",
       "      <td>53</td>\n",
       "      <td>мука</td>\n",
       "      <td>78.3</td>\n",
       "    </tr>\n",
       "  </tbody>\n",
       "</table>\n",
       "</div>"
      ],
      "text/plain": [
       "   user_id  order_id        action                time       date  group  \\\n",
       "0      964      1255  create_order 2022-08-26 00:00:19 2022-08-26      0   \n",
       "1      964      1255  create_order 2022-08-26 00:00:19 2022-08-26      0   \n",
       "2      964      1255  create_order 2022-08-26 00:00:19 2022-08-26      0   \n",
       "\n",
       "   is_canceled       creation_time product_id             name  price  \n",
       "0        False 2022-08-26 00:00:19         75   сок ананасовый  120.0  \n",
       "1        False 2022-08-26 00:00:19         22  сок мультифрукт  120.0  \n",
       "2        False 2022-08-26 00:00:19         53             мука   78.3  "
      ]
     },
     "execution_count": 47,
     "metadata": {},
     "output_type": "execute_result"
    }
   ],
   "source": [
    "products_not_canceled[:3]"
   ]
  },
  {
   "cell_type": "markdown",
   "metadata": {},
   "source": [
    "Посмотрим на различия между средними выручками с пользователей в двух группах, а также различия в метриках AOV"
   ]
  },
  {
   "cell_type": "code",
   "execution_count": 48,
   "metadata": {},
   "outputs": [],
   "source": [
    "AOV_preview_df = products_not_canceled.groupby('group', as_index = False) \\\n",
    "    .agg({'price' : 'sum', 'order_id' : 'nunique'}) \\\n",
    "    .rename(columns = {'price' : 'revenue', 'order_id' : 'order_count'})\n",
    "AOV_preview_df['AOV'] = AOV_preview_df.revenue / AOV_preview_df.order_count"
   ]
  },
  {
   "cell_type": "code",
   "execution_count": 49,
   "metadata": {},
   "outputs": [
    {
     "data": {
      "text/html": [
       "<div>\n",
       "<style scoped>\n",
       "    .dataframe tbody tr th:only-of-type {\n",
       "        vertical-align: middle;\n",
       "    }\n",
       "\n",
       "    .dataframe tbody tr th {\n",
       "        vertical-align: top;\n",
       "    }\n",
       "\n",
       "    .dataframe thead th {\n",
       "        text-align: right;\n",
       "    }\n",
       "</style>\n",
       "<table border=\"1\" class=\"dataframe\">\n",
       "  <thead>\n",
       "    <tr style=\"text-align: right;\">\n",
       "      <th></th>\n",
       "      <th>group</th>\n",
       "      <th>revenue</th>\n",
       "      <th>order_count</th>\n",
       "      <th>AOV</th>\n",
       "    </tr>\n",
       "  </thead>\n",
       "  <tbody>\n",
       "    <tr>\n",
       "      <th>0</th>\n",
       "      <td>0</td>\n",
       "      <td>583455.9</td>\n",
       "      <td>1527</td>\n",
       "      <td>382.092927</td>\n",
       "    </tr>\n",
       "    <tr>\n",
       "      <th>1</th>\n",
       "      <td>1</td>\n",
       "      <td>878628.4</td>\n",
       "      <td>2382</td>\n",
       "      <td>368.861629</td>\n",
       "    </tr>\n",
       "  </tbody>\n",
       "</table>\n",
       "</div>"
      ],
      "text/plain": [
       "   group   revenue  order_count         AOV\n",
       "0      0  583455.9         1527  382.092927\n",
       "1      1  878628.4         2382  368.861629"
      ]
     },
     "execution_count": 49,
     "metadata": {},
     "output_type": "execute_result"
    }
   ],
   "source": [
    "AOV_preview_df"
   ]
  },
  {
   "cell_type": "markdown",
   "metadata": {},
   "source": [
    "Различия между выручками положительное, как и в количествах заказов, но средний чек в тестово группе меньше, чем в контрольной. Проверим, насколько эти различия стат значимы."
   ]
  },
  {
   "cell_type": "markdown",
   "metadata": {},
   "source": [
    "### Формулировка гипотез\n",
    "**H<sub>0</sub>** - средние чеки в контрольной и экспериментальной группе статистически значимо **не различаются**. То есть различия AOV случайны   \n",
    "**H<sub>1</sub>** - средние чеки в контрольной и экспериментальной группе статистически значимо **различаются**. То есть в различиях AOV есть закономерность "
   ]
  },
  {
   "cell_type": "code",
   "execution_count": 50,
   "metadata": {},
   "outputs": [],
   "source": [
    "# Возьмем только нужные нам переменные и посчитаем каждый чек\n",
    "AOV_df = products_not_canceled[['group', 'order_id', 'price']]\n",
    "AOV_df = AOV_df.groupby(['group', 'order_id'], as_index = False) \\\n",
    "    .agg({'price' : 'sum'})"
   ]
  },
  {
   "cell_type": "code",
   "execution_count": 51,
   "metadata": {},
   "outputs": [
    {
     "data": {
      "text/html": [
       "<div>\n",
       "<style scoped>\n",
       "    .dataframe tbody tr th:only-of-type {\n",
       "        vertical-align: middle;\n",
       "    }\n",
       "\n",
       "    .dataframe tbody tr th {\n",
       "        vertical-align: top;\n",
       "    }\n",
       "\n",
       "    .dataframe thead th {\n",
       "        text-align: right;\n",
       "    }\n",
       "</style>\n",
       "<table border=\"1\" class=\"dataframe\">\n",
       "  <thead>\n",
       "    <tr style=\"text-align: right;\">\n",
       "      <th></th>\n",
       "      <th>group</th>\n",
       "      <th>order_id</th>\n",
       "      <th>price</th>\n",
       "    </tr>\n",
       "  </thead>\n",
       "  <tbody>\n",
       "    <tr>\n",
       "      <th>0</th>\n",
       "      <td>0</td>\n",
       "      <td>1255</td>\n",
       "      <td>408.7</td>\n",
       "    </tr>\n",
       "    <tr>\n",
       "      <th>1</th>\n",
       "      <td>0</td>\n",
       "      <td>1257</td>\n",
       "      <td>310.2</td>\n",
       "    </tr>\n",
       "    <tr>\n",
       "      <th>2</th>\n",
       "      <td>0</td>\n",
       "      <td>1261</td>\n",
       "      <td>430.7</td>\n",
       "    </tr>\n",
       "    <tr>\n",
       "      <th>3</th>\n",
       "      <td>0</td>\n",
       "      <td>1262</td>\n",
       "      <td>358.6</td>\n",
       "    </tr>\n",
       "    <tr>\n",
       "      <th>4</th>\n",
       "      <td>0</td>\n",
       "      <td>1265</td>\n",
       "      <td>546.4</td>\n",
       "    </tr>\n",
       "  </tbody>\n",
       "</table>\n",
       "</div>"
      ],
      "text/plain": [
       "   group  order_id  price\n",
       "0      0      1255  408.7\n",
       "1      0      1257  310.2\n",
       "2      0      1261  430.7\n",
       "3      0      1262  358.6\n",
       "4      0      1265  546.4"
      ]
     },
     "execution_count": 51,
     "metadata": {},
     "output_type": "execute_result"
    }
   ],
   "source": [
    "AOV_df.head()"
   ]
  },
  {
   "cell_type": "code",
   "execution_count": 52,
   "metadata": {},
   "outputs": [
    {
     "data": {
      "image/png": "[encoded data removed]",
      "text/plain": [
       "<Figure size 864x288 with 2 Axes>"
      ]
     },
     "metadata": {
      "needs_background": "light"
     },
     "output_type": "display_data"
    }
   ],
   "source": [
    "fig, axes = plt.subplots(1, 2, figsize=(12, 4))\n",
    "\n",
    "sns.histplot(AOV_df.query(\"group == 0\").price, ax=axes[0], bins = 50, kde = True)\n",
    "axes[0].set_title('Распределение чеков по заказам контрольной группы')\n",
    "\n",
    "sns.histplot(AOV_df.query(\"group == 1\").price, ax=axes[1], bins = 50, kde = True)\n",
    "axes[1].set_title('Распределение чеков по заказам тестовой группы')\n",
    "\n",
    "plt.tight_layout() \n",
    "plt.show()\n"
   ]
  },
  {
   "cell_type": "markdown",
   "metadata": {},
   "source": [
    "### Проверка на параметрические условия"
   ]
  },
  {
   "cell_type": "code",
   "execution_count": 53,
   "metadata": {},
   "outputs": [
    {
     "data": {
      "image/png": "[encoded data removed]",
      "text/plain": [
       "<Figure size 402.375x360 with 1 Axes>"
      ]
     },
     "metadata": {
      "needs_background": "light"
     },
     "output_type": "display_data"
    },
    {
     "name": "stdout",
     "output_type": "stream",
     "text": [
      "Ср. отклонение контрольной группы:  247.91207163235208\n",
      "Ср. отклонение тестовой группы:  246.44732928056123\n",
      "p-value гомогенности дисперсий:  0.31453758452176295\n",
      "\n",
      "p-value нормальности для контрольной группы:  3.811183766866527e-28\n",
      "p-value нормальности для тестовой группы:  8.388620126125922e-37\n"
     ]
    }
   ],
   "source": [
    "ttest_conditions(AOV_df, \n",
    "                 AOV_df.loc[AOV_df.group == 0].price, \n",
    "                 AOV_df.loc[AOV_df.group == 1].price, \n",
    "                 AOV_df.price, \n",
    "                 AOV_df.group)"
   ]
  },
  {
   "cell_type": "markdown",
   "metadata": {},
   "source": [
    "Видно, что распределения визуально близки к нормальным, однако тест Шапиро-Уилка нам это не показал (вероятно из-за сильной чувствительности к выбросам) - p-value < α .  \n",
    "Применив тест Левена, по результатам гомогенности дисперсий мы не можем говорить о стат значимости различий дисперсий, т.к. p-value > α.  \n",
    "Параметрические условия соблюдены частично. Пробую пролагорифимровать:"
   ]
  },
  {
   "cell_type": "code",
   "execution_count": 54,
   "metadata": {},
   "outputs": [
    {
     "data": {
      "image/png": "[encoded data removed]",
      "text/plain": [
       "<Figure size 402.375x360 with 1 Axes>"
      ]
     },
     "metadata": {
      "needs_background": "light"
     },
     "output_type": "display_data"
    },
    {
     "name": "stdout",
     "output_type": "stream",
     "text": [
      "Ср. отклонение контрольной группы:  0.7166016362972587\n",
      "Ср. отклонение тестовой группы:  0.7279365460672499\n",
      "p-value гомогенности дисперсий:  0.9308393903398693\n",
      "\n",
      "p-value нормальности для контрольной группы:  2.2001176820326835e-15\n",
      "p-value нормальности для тестовой группы:  1.7065833020632874e-20\n"
     ]
    }
   ],
   "source": [
    "ttest_conditions(AOV_df, \n",
    "                 np.log(AOV_df.loc[AOV_df.group == 0].price), \n",
    "                 np.log(AOV_df.loc[AOV_df.group == 1].price), \n",
    "                 np.log(AOV_df.price), \n",
    "                 AOV_df.group)"
   ]
  },
  {
   "cell_type": "markdown",
   "metadata": {},
   "source": [
    "p-value снова < α и в проверке на нормальность, но > α в проверке на гомогенность дисперсий.\n",
    "\n",
    "Итак, выбираю непараметрический стат тест Манна-Уитни, как основной. Я также проверю стат значимость Т-тестом Стьюдента, т.к. визуально распределения близки к нормальным"
   ]
  },
  {
   "cell_type": "markdown",
   "metadata": {},
   "source": [
    "### Стат тесты"
   ]
  },
  {
   "cell_type": "markdown",
   "metadata": {},
   "source": [
    "#### Тест Манна-Уитни"
   ]
  },
  {
   "cell_type": "code",
   "execution_count": 55,
   "metadata": {},
   "outputs": [
    {
     "data": {
      "text/plain": [
       "MannwhitneyuResult(statistic=1879866.0, pvalue=0.07540906614048998)"
      ]
     },
     "execution_count": 55,
     "metadata": {},
     "output_type": "execute_result"
    }
   ],
   "source": [
    "stats.mannwhitneyu(AOV_df.loc[AOV_df.group == 0].price,\n",
    "                   AOV_df.loc[AOV_df.group == 1].price)"
   ]
  },
  {
   "cell_type": "markdown",
   "metadata": {},
   "source": [
    "#### Т-тест "
   ]
  },
  {
   "cell_type": "code",
   "execution_count": 56,
   "metadata": {},
   "outputs": [
    {
     "data": {
      "text/plain": [
       "Ttest_indResult(statistic=1.6334875192269402, pvalue=0.10244707728234669)"
      ]
     },
     "execution_count": 56,
     "metadata": {},
     "output_type": "execute_result"
    }
   ],
   "source": [
    "stats.ttest_ind(AOV_df.loc[AOV_df.group == 0].price,\n",
    "                AOV_df.loc[AOV_df.group == 1].price)"
   ]
  },
  {
   "cell_type": "markdown",
   "metadata": {},
   "source": [
    "В обоих случаях p-value > &alpha;, но незначительно. Это значение не позволяет опровергнуть H<sub>0</sub> и сказать, что уменьшение среднего чека в тестовой выборке статистически значимо.  \n",
    "  \n",
    "  \n",
    "Однако стоит отметить, что обе выборки несколько смещены влево, а также имеют заметные хвосты справа. Несомненно экстремальные значения и выбросы оказывают влияние на среднее значение, в связи с этим, полагаться только на результат тестов оценки средних значений может быть опрометчиво.  \n",
    "\n",
    "Методика Bootstrap, возможно, позволит нам дать более точную статистическую оценку различий средних и медиан, в частности."
   ]
  },
  {
   "cell_type": "markdown",
   "metadata": {},
   "source": [
    "#### Bootstrap "
   ]
  },
  {
   "cell_type": "markdown",
   "metadata": {},
   "source": [
    "**H<sub>0</sub>** в этом случае - медианные чеки в контрольной и экспериментальной группе статистически значимо не различаются. То есть различия медианных чеков случайны"
   ]
  },
  {
   "cell_type": "code",
   "execution_count": 57,
   "metadata": {},
   "outputs": [
    {
     "name": "stdout",
     "output_type": "stream",
     "text": [
      "Медианы в группах равны:  325.9 и 307.35\n"
     ]
    }
   ],
   "source": [
    "print('Медианы в группах равны: ', \n",
    "      AOV_df.loc[AOV_df.group == 0].price.median(), \n",
    "      'и', \n",
    "      AOV_df.loc[AOV_df.group == 1].price.median())"
   ]
  },
  {
   "cell_type": "code",
   "execution_count": 58,
   "metadata": {},
   "outputs": [
    {
     "name": "stdout",
     "output_type": "stream",
     "text": [
      "95% доверительные интервалы в группах равны:  ConfidenceInterval(low=310.2, high=338.3) и ConfidenceInterval(low=295.0, high=318.3)\n"
     ]
    }
   ],
   "source": [
    "print('95% доверительные интервалы в группах равны: ', \n",
    "      stats.bootstrap((AOV_df.loc[AOV_df.group == 0].price, ), statistic = np.median) \\\n",
    "     .confidence_interval,\n",
    "     'и',\n",
    "     stats.bootstrap((AOV_df.loc[AOV_df.group == 1].price, ), statistic = np.median) \\\n",
    "     .confidence_interval)"
   ]
  },
  {
   "cell_type": "markdown",
   "metadata": {},
   "source": [
    "Посмотрю на разницу медиан:"
   ]
  },
  {
   "cell_type": "code",
   "execution_count": 59,
   "metadata": {},
   "outputs": [],
   "source": [
    "tmp_1 = AOV_df.loc[AOV_df.group == 0].price\n",
    "tmp_2 = AOV_df.loc[AOV_df.group == 1].price\n",
    "median_diff = []\n",
    "median_control_list = []\n",
    "median_exp_list = []\n",
    "\n",
    "for i in range(10000):\n",
    "    sample_data_control = tmp_1.sample(frac=1, replace=True)\n",
    "    sample_median_control = sample_data_control.median()\n",
    "    median_control_list.append(sample_median_control)\n",
    "\n",
    "    sample_data_exp = tmp_2.sample(frac=1, replace=True)\n",
    "    sample_median_exp = sample_data_exp.median()\n",
    "    median_exp_list.append(sample_median_exp)\n",
    "    \n",
    "    sample_median_diff = sample_median_control - sample_median_exp\n",
    "    \n",
    "    median_diff.append(sample_median_diff)"
   ]
  },
  {
   "cell_type": "code",
   "execution_count": 60,
   "metadata": {},
   "outputs": [
    {
     "name": "stdout",
     "output_type": "stream",
     "text": [
      "95%-й доверительный интервал для разниц медианных значений,\n",
      "полученных методикой Bootstrap: [ 0.4 ,  36.45 ]\n"
     ]
    }
   ],
   "source": [
    "print('95%-й доверительный интервал для разниц медианных значений,\\nполученных методикой Bootstrap: [',\n",
    "      pd.Series(median_diff).quantile(0.025).round(3), ', ', \n",
    "      pd.Series(median_diff).quantile(0.975).round(3), ']')"
   ]
  },
  {
   "cell_type": "markdown",
   "metadata": {},
   "source": [
    "Итак, методом Бутстрэпа мы выяснили, что 95%-е доверительные интервалы медиан, взятых по выборкам с повторениями, в двух экспериментальных группах пересекаются друг с другом. Это означает, что различия между медианами `325.9` для контрольной и `307.35` для тестовой группы не являются статистически значимы, то есть у нас недостаточно оснований отклонить **H<sub>0</sub>** для медиан"
   ]
  },
  {
   "cell_type": "markdown",
   "metadata": {},
   "source": [
    "### Вывод по метрике ARPPU"
   ]
  },
  {
   "cell_type": "markdown",
   "metadata": {},
   "source": [
    "Проведенные тесты **Манна-Уитни** и **Т-тест** не дают нам повод опровергнуть **H<sub>0</sub>** и считать, что изменение средних чеков в худшую сторону в тестовой группе статистически значимо.  \n",
    "В качестве проверки мною была проведено исследование стат значимых различий медиан двух групп методикой **Bootstrap**. Данный метод показал, что стат значимых изменений в медианах чеков также нет.  \n",
    "**В итоге у меня не получилось обнаружить стат значимых различий, т.е. закономерность в изменениях в худшую сторону в средних `AOV` в размере `13.13` и в медианах в размере `18.56`**"
   ]
  },
  {
   "cell_type": "code",
   "execution_count": null,
   "metadata": {},
   "outputs": [],
   "source": []
  },
  {
   "cell_type": "markdown",
   "metadata": {},
   "source": [
    "[К метрике АOV↑](#AOV2)"
   ]
  },
  {
   "cell_type": "markdown",
   "metadata": {},
   "source": [
    "[К списку метрик↑↑↑](#mark2)"
   ]
  },
  {
   "cell_type": "markdown",
   "metadata": {},
   "source": [
    "# Order Cancellation Rate"
   ]
  },
  {
   "cell_type": "markdown",
   "metadata": {},
   "source": [
    "<a id=\"OCR2\"> OCR </a>"
   ]
  },
  {
   "cell_type": "markdown",
   "metadata": {},
   "source": [
    "[К метрике общему выводу↓](#Conclusion2)"
   ]
  },
  {
   "cell_type": "markdown",
   "metadata": {},
   "source": [
    "`OCR = Количество отмененных товаров / Общее количество всех изначально проданных товаров  * 100%`"
   ]
  },
  {
   "cell_type": "markdown",
   "metadata": {},
   "source": [
    "Можно сказать, мы считаем конверсию в отмену товара среди всех покупок товаров"
   ]
  },
  {
   "cell_type": "markdown",
   "metadata": {},
   "source": [
    "### Формулировка гипотез"
   ]
  },
  {
   "cell_type": "markdown",
   "metadata": {},
   "source": [
    "**H<sub>0</sub>** - Отношение количества отмен к общему количеству покупок не зависит от экспериментальной группы, то есть примерно одинаково  \n",
    "**H<sub>1</sub>** - Отношение количества отмен к общему количеству покупок  зависит от экспериментальной группы, то есть стат значимо различается"
   ]
  },
  {
   "cell_type": "markdown",
   "metadata": {},
   "source": [
    "Посмотрим на различия между отменами и метриками OCR в двух экспериментальных группах"
   ]
  },
  {
   "cell_type": "code",
   "execution_count": 61,
   "metadata": {},
   "outputs": [],
   "source": [
    "OCR_df_preview = general_clean[['user_id', 'group', 'is_canceled']]\n",
    "OCR_df_preview = OCR_df_preview.groupby('group', as_index = False) \\\n",
    "    .agg({'is_canceled' : 'sum', 'user_id' : 'count'}) \\\n",
    "    .rename(columns = {'is_canceled' : 'canceled_products', 'user_id' : 'total_products'})\n",
    "OCR_df_preview['OCR'] = OCR_df_preview.canceled_products / OCR_df_preview.total_products * 100 "
   ]
  },
  {
   "cell_type": "code",
   "execution_count": 62,
   "metadata": {},
   "outputs": [
    {
     "data": {
      "text/html": [
       "<div>\n",
       "<style scoped>\n",
       "    .dataframe tbody tr th:only-of-type {\n",
       "        vertical-align: middle;\n",
       "    }\n",
       "\n",
       "    .dataframe tbody tr th {\n",
       "        vertical-align: top;\n",
       "    }\n",
       "\n",
       "    .dataframe thead th {\n",
       "        text-align: right;\n",
       "    }\n",
       "</style>\n",
       "<table border=\"1\" class=\"dataframe\">\n",
       "  <thead>\n",
       "    <tr style=\"text-align: right;\">\n",
       "      <th></th>\n",
       "      <th>group</th>\n",
       "      <th>canceled_products</th>\n",
       "      <th>total_products</th>\n",
       "      <th>OCR</th>\n",
       "    </tr>\n",
       "  </thead>\n",
       "  <tbody>\n",
       "    <tr>\n",
       "      <th>0</th>\n",
       "      <td>0</td>\n",
       "      <td>287</td>\n",
       "      <td>5390</td>\n",
       "      <td>5.324675</td>\n",
       "    </tr>\n",
       "    <tr>\n",
       "      <th>1</th>\n",
       "      <td>1</td>\n",
       "      <td>456</td>\n",
       "      <td>8436</td>\n",
       "      <td>5.405405</td>\n",
       "    </tr>\n",
       "  </tbody>\n",
       "</table>\n",
       "</div>"
      ],
      "text/plain": [
       "   group  canceled_products  total_products       OCR\n",
       "0      0                287            5390  5.324675\n",
       "1      1                456            8436  5.405405"
      ]
     },
     "execution_count": 62,
     "metadata": {},
     "output_type": "execute_result"
    }
   ],
   "source": [
    "OCR_df_preview"
   ]
  },
  {
   "cell_type": "markdown",
   "metadata": {},
   "source": [
    "Различия между отменами присутствуют, однако это не дает нам оснований утверждать, что они выросли в результате падения качества товара - возможно, рост отмен связан с общим увеличением спроса на товары. Это мы и проверяем метрикой OCR."
   ]
  },
  {
   "cell_type": "markdown",
   "metadata": {},
   "source": [
    "Различия метрик присутствуют, хоть и незначительные, проверим их на стат значимость. Метод **Хи-квадрат** будет подходящим, т.к. мы имеем дело с двумя номинативными переменными: статус отмены и тип экспериментальной группы."
   ]
  },
  {
   "cell_type": "markdown",
   "metadata": {},
   "source": [
    "#### Таблица сопряженности"
   ]
  },
  {
   "cell_type": "code",
   "execution_count": 63,
   "metadata": {},
   "outputs": [],
   "source": [
    "products_crosstab = OCR_df_preview\n",
    "products_crosstab['non_canceled_products'] = (products_crosstab['total_products'] - \n",
    "                                     products_crosstab['canceled_products'])"
   ]
  },
  {
   "cell_type": "code",
   "execution_count": 64,
   "metadata": {},
   "outputs": [],
   "source": [
    "products_crosstab.set_index('group', inplace = True)\n",
    "products_crosstab = products_crosstab.append(products_crosstab.sum(), ignore_index=True) \\\n",
    "    .rename(index = {0 : 'control', 1 : 'test', 2 : 'total'})\n",
    "products_crosstab = products_crosstab[['canceled_products', 'non_canceled_products', 'total_products']]"
   ]
  },
  {
   "cell_type": "code",
   "execution_count": 65,
   "metadata": {},
   "outputs": [
    {
     "data": {
      "text/html": [
       "<div>\n",
       "<style scoped>\n",
       "    .dataframe tbody tr th:only-of-type {\n",
       "        vertical-align: middle;\n",
       "    }\n",
       "\n",
       "    .dataframe tbody tr th {\n",
       "        vertical-align: top;\n",
       "    }\n",
       "\n",
       "    .dataframe thead th {\n",
       "        text-align: right;\n",
       "    }\n",
       "</style>\n",
       "<table border=\"1\" class=\"dataframe\">\n",
       "  <thead>\n",
       "    <tr style=\"text-align: right;\">\n",
       "      <th></th>\n",
       "      <th>canceled_products</th>\n",
       "      <th>non_canceled_products</th>\n",
       "      <th>total_products</th>\n",
       "    </tr>\n",
       "  </thead>\n",
       "  <tbody>\n",
       "    <tr>\n",
       "      <th>control</th>\n",
       "      <td>287.0</td>\n",
       "      <td>5103.0</td>\n",
       "      <td>5390.0</td>\n",
       "    </tr>\n",
       "    <tr>\n",
       "      <th>test</th>\n",
       "      <td>456.0</td>\n",
       "      <td>7980.0</td>\n",
       "      <td>8436.0</td>\n",
       "    </tr>\n",
       "    <tr>\n",
       "      <th>total</th>\n",
       "      <td>743.0</td>\n",
       "      <td>13083.0</td>\n",
       "      <td>13826.0</td>\n",
       "    </tr>\n",
       "  </tbody>\n",
       "</table>\n",
       "</div>"
      ],
      "text/plain": [
       "         canceled_products  non_canceled_products  total_products\n",
       "control              287.0                 5103.0          5390.0\n",
       "test                 456.0                 7980.0          8436.0\n",
       "total                743.0                13083.0         13826.0"
      ]
     },
     "execution_count": 65,
     "metadata": {},
     "output_type": "execute_result"
    }
   ],
   "source": [
    "products_crosstab"
   ]
  },
  {
   "cell_type": "markdown",
   "metadata": {},
   "source": [
    "#### Тест Хи-квадрат"
   ]
  },
  {
   "cell_type": "code",
   "execution_count": 66,
   "metadata": {},
   "outputs": [
    {
     "data": {
      "text/plain": [
       "(0.027769102315947473,\n",
       " 0.8676528160493342,\n",
       " 1,\n",
       " array([[ 289.65499783, 5100.34500217],\n",
       "        [ 453.34500217, 7982.65499783]]))"
      ]
     },
     "execution_count": 66,
     "metadata": {},
     "output_type": "execute_result"
    }
   ],
   "source": [
    "stats.chi2_contingency(products_crosstab.drop(index = 'total', columns = 'total_products'))"
   ]
  },
  {
   "cell_type": "markdown",
   "metadata": {},
   "source": [
    "### Вывод по метрике OCR"
   ]
  },
  {
   "cell_type": "markdown",
   "metadata": {},
   "source": [
    "Проведенный тест **Хи-квадрат** не дает нам оснований опровергнуть **H<sub>0</sub>** в пользу **H<sub>1</sub>**, т.к. p-value ~0.86 > &alpha;.  \n",
    "**Таким образом, мы ничего не можем сказать о статистически значимом распределении отмен по экспериментальным группам, а следовательно различии метрик `OCR` между контрольной и тестовой группой.**"
   ]
  },
  {
   "cell_type": "markdown",
   "metadata": {},
   "source": [
    "[К метрике OCR↑](#OCR2)"
   ]
  },
  {
   "cell_type": "markdown",
   "metadata": {},
   "source": [
    "[К списку метрик↑↑↑](#mark2)"
   ]
  },
  {
   "cell_type": "markdown",
   "metadata": {},
   "source": [
    "# <a id=\"Conclusion2\"> Общий вывод </a>"
   ]
  },
  {
   "cell_type": "markdown",
   "metadata": {},
   "source": [
    "Во-первых, наша рекомендательная система положительно повлияла на изменение `общей выручки` (отмененные заказы не учитываются). В старой версии - `583455`, в новой - `878628`.  \n",
    "Во-вторых, рекомендательная система положительно повлияла на на общее `число заказов` (отмененные заказы не учитываются). В старой версии - `1527`, в новой - `2382`."
   ]
  },
  {
   "cell_type": "markdown",
   "metadata": {},
   "source": [
    "Статистический анализ целевой метрики `ARPPU` показал, что мы имеем закономерность в увеличении средней выручки на платящего пользователя на `614` (отмененные заказы не учитываются). В старой версии - `1140`, в новой - `1754`. Считаю, что этот показатель хорошо отражает результат прибыли от рекомендательной системы."
   ]
  },
  {
   "cell_type": "markdown",
   "metadata": {},
   "source": [
    "Статистический анализ прокси-метрики `AOV` не показал, что мы имеем закономерность в уменьшении среднего чека на `13.13`(отмененные заказы не учитываются). В старой версии - `382.1`, новой - `368.8`. Таким образом, мы не можем однозначно сделать заключение. "
   ]
  },
  {
   "cell_type": "markdown",
   "metadata": {},
   "source": [
    "Статистический анализ прокси-метрики `OCR` не показал, что мы имеем закономерности в увеличении количества отмен товаров на общее количество всех проданных товаров. Так или иначе, разница этой метрики была очень мала - `<0.08%` (в старой - `5.32%`, в новой - `5.40%`), и вряд ли окажет какое-либо влияние на наш бизнес. "
   ]
  },
  {
   "cell_type": "markdown",
   "metadata": {},
   "source": [
    "Обобщая вышесказанное, считаю, что, к сожалению, выбранные мной метрики недостаточны для максимально точного многогранного оценивания профита от рекомендательной системы. Возможно, хорошей практикой было бы исследовать метрику `AOV` в связке с метрикой среднего количества покупок на пользователя. Также можно было бы статистически оценить пару из метрик среднего прайса на товары и среднего числа покупок товаров. Также можно было бы расчитать такую метрику, как Stickness, оценив частоту покупок пользователей.  \n",
    "  \n",
    "  \n",
    "**Тем не менее анализ ключевой метрики `ARPPU` показал заметное стат значимое увеличение метрики. Поэтому считаю, что рекомендательная система положительно повлияла на бизнес и скорее принесет ему пользу в будущем, поэтому, думаю, ее стоит включить на всех пользователей.**"
   ]
  },
  {
   "cell_type": "markdown",
   "metadata": {},
   "source": [
    "[К началу ↑↑↑](#title1)"
   ]
  },
  {
   "cell_type": "code",
   "execution_count": null,
   "metadata": {},
   "outputs": [],
   "source": []
  }
 ],
 "metadata": {
  "kernelspec": {
   "display_name": "Python 3",
   "language": "python",
   "name": "python3"
  },
  "language_info": {
   "codemirror_mode": {
    "name": "ipython",
    "version": 3
   },
   "file_extension": ".py",
   "mimetype": "text/x-python",
   "name": "python",
   "nbconvert_exporter": "python",
   "pygments_lexer": "ipython3",
   "version": "3.7.3"
  }
 },
 "nbformat": 4,
 "nbformat_minor": 4
}
